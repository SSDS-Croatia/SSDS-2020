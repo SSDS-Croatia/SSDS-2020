{
 "cells": [
  {
   "cell_type": "markdown",
   "metadata": {},
   "source": [
    "# Working with networks in Python using graph-tool\n",
    "\n",
    "There are several network packages for Python:\n",
    "\n",
    "* NetworkX: https://networkx.github.io/\n",
    "* igraph: https://igraph.org/\n",
    "* graph-tool: https://graph-tool.skewed.de/\n",
    "\n",
    "Why use `graph-tool`? See a performance comparison here: https://graph-tool.skewed.de/performance\n",
    "\n",
    "NetworkX is implemented in pure Python. Instead, `graph-tool` follows the Numpy philosophy, and implements the core data structure and algorithms in a lower-level language, C++ with [templates](https://en.wikipedia.org/wiki/Template_(C%2B%2B)). This means a performance improvement of up to 200x.\n",
    "\n",
    "**But there is no free lunch!** Implementing a library in C++ means that it requires the C++ infrastructure and environmente to be compiled and installed in different architectures. C++ is not as portable as (pure) Python, so a program compiled for GNU/Linux does not work in MacOS, etc.\n",
    "\n",
    "Instructions to install graph-tool in various systems are available here: https://git.skewed.de/count0/graph-tool/wikis/installation-instructions\n",
    "\n",
    "Users of MacOS will probably prefer to install it via [homebew](https://brew.sh). Users of GNU/Linux (Debian, Ubuntu, Arch, etc) will have the easiest time installing it. Windows users will have the worst time.\n",
    "\n",
    "``graph-tool`` has **lots** of documentation that you should definitely read: https://graph-tool.skewed.de/static/doc"
   ]
  },
  {
   "cell_type": "markdown",
   "metadata": {},
   "source": [
    "#### Excercise 1 (or Homework)\n",
    "\n",
    "Install `graph-tool` on your machine."
   ]
  },
  {
   "cell_type": "markdown",
   "metadata": {},
   "source": [
    "Run the following cell if you are using https://colab.research.google.com/ (ignore it otherwise)"
   ]
  },
  {
   "cell_type": "code",
   "execution_count": null,
   "metadata": {
    "collapsed": true
   },
   "outputs": [],
   "source": [
    "!echo \"deb http://downloads.skewed.de/apt bionic main\" >> /etc/apt/sources.list\n",
    "!apt-key adv --keyserver keys.openpgp.org --recv-key 612DEFB798507F25\n",
    "!apt-get update\n",
    "!apt-get install python3-graph-tool python3-cairo python3-matplotlib"
   ]
  },
  {
   "cell_type": "markdown",
   "metadata": {},
   "source": [
    "### Creating a Graph"
   ]
  },
  {
   "cell_type": "code",
   "execution_count": null,
   "metadata": {
    "collapsed": true
   },
   "outputs": [],
   "source": [
    "from graph_tool.all import *\n",
    "\n",
    "g = Graph()            # create an empty graph with no vertices and no edges. \n",
    "print(g)\n",
    "\n",
    "#By default graphs are directed. If you wish undirected graphs, you need to pass the option: directed=False\n",
    "\n",
    "g = Graph(directed=False)\n",
    "print(g)"
   ]
  },
  {
   "cell_type": "markdown",
   "metadata": {},
   "source": [
    "### Vertices\n",
    "Adding vertices (nodes) are done with the ``Graph.add_vertex()`` method."
   ]
  },
  {
   "cell_type": "code",
   "execution_count": null,
   "metadata": {
    "collapsed": true
   },
   "outputs": [],
   "source": [
    "v = g.add_vertex()    # add a single vertex, and returns the vertex object\n",
    "print(list(g.vertices()))"
   ]
  },
  {
   "cell_type": "code",
   "execution_count": null,
   "metadata": {
    "collapsed": true
   },
   "outputs": [],
   "source": [
    "vs = g.add_vertex(10)    # you can add many vertices at once, and an iterator to the vertices added is returned\n",
    "print(list(vs))\n",
    "print(g.num_vertices())"
   ]
  },
  {
   "cell_type": "markdown",
   "metadata": {},
   "source": [
    "Vertices are always indexed from `0` to `N-1` where `N` is the total number of vertices.\n",
    "\n",
    "We can always obtain the vertex object directly from the index:"
   ]
  },
  {
   "cell_type": "code",
   "execution_count": null,
   "metadata": {
    "collapsed": true
   },
   "outputs": [],
   "source": [
    "v = g.vertex(5)\n",
    "v"
   ]
  },
  {
   "cell_type": "markdown",
   "metadata": {},
   "source": [
    "### Edges\n",
    "\n",
    "We can add edges using ``Graph.add_edge()``."
   ]
  },
  {
   "cell_type": "code",
   "execution_count": null,
   "metadata": {
    "collapsed": true
   },
   "outputs": [],
   "source": [
    "v1 = g.vertex(0)\n",
    "v2 = g.vertex(1)\n",
    "\n",
    "e = g.add_edge(v1, v2)\n",
    "\n",
    "print(repr(e))\n",
    "\n",
    "# we can also use the vertex index directly:\n",
    "\n",
    "e2 = g.add_edge(0, 2)\n",
    "\n",
    "print(repr(e2))\n",
    "\n",
    "print(g.num_edges())"
   ]
  },
  {
   "cell_type": "markdown",
   "metadata": {},
   "source": [
    "We can add many edges at once using `Graph.add_edge_list()`:"
   ]
  },
  {
   "cell_type": "code",
   "execution_count": null,
   "metadata": {
    "collapsed": true
   },
   "outputs": [],
   "source": [
    "g = Graph(directed=False)\n",
    "g.add_edge_list([(0, 1), (2, 3), (1, 0), (3, 4)])  # non-existing vertices are automatically added!\n",
    "\n",
    "print(g)"
   ]
  },
  {
   "cell_type": "code",
   "execution_count": null,
   "metadata": {
    "collapsed": true
   },
   "outputs": [],
   "source": [
    "# We can lookup the existence of edges with the ``Graph.edge()`` method:\n",
    "\n",
    "e = g.edge(2, 3)\n",
    "print(e)\n",
    "\n",
    "e = g.edge(2, 4)\n",
    "print(e)\n",
    "\n",
    "\n",
    "# We can query the source and target of an edge:\n",
    "\n",
    "e = g.edge(2, 3)\n",
    "\n",
    "print(e.source(), e.target())\n",
    "\n",
    "# We can also convert an edge to a tuple:\n",
    "\n",
    "u, v = e\n",
    "\n",
    "print(u, v)"
   ]
  },
  {
   "cell_type": "markdown",
   "metadata": {},
   "source": [
    "### Iterating over vertices and edges"
   ]
  },
  {
   "cell_type": "code",
   "execution_count": null,
   "metadata": {
    "collapsed": true
   },
   "outputs": [],
   "source": [
    "for v in g.vertices():\n",
    "    print(v)\n",
    "    \n",
    "for e in g.edges():\n",
    "    print(e)\n",
    "\n",
    "for u, v in g.edges():\n",
    "    print(u, v)\n",
    "    \n",
    "for v in g.vertices():\n",
    "    print(f\"Edges incident on {v}: \", end=\"\")\n",
    "    for e in v.out_edges():\n",
    "        print(e, end=\" \")\n",
    "    print()\n",
    "    \n",
    "for v in g.vertices():\n",
    "    print(f\"The degree of node {v} is {v.out_degree()} and its neighbors are: \", end=\"\")\n",
    "    for u in v.out_neighbors():\n",
    "        print(u, end=\" \")\n",
    "    print()"
   ]
  },
  {
   "cell_type": "markdown",
   "metadata": {},
   "source": [
    "### Directed graphs"
   ]
  },
  {
   "cell_type": "code",
   "execution_count": null,
   "metadata": {
    "collapsed": true
   },
   "outputs": [],
   "source": [
    "g = Graph()\n",
    "g.add_edge_list([(0, 1), (2, 3), (1, 0), (3, 4)])\n",
    "\n",
    "print(g)\n",
    "\n",
    "for v in g.vertices():\n",
    "    print(f\"Outgoing edges from {v}: \", end=\"\")\n",
    "    for e in v.out_edges():\n",
    "        print(e, end=\" \")\n",
    "    print()\n",
    "    \n",
    "    print(f\"Incoming edges to {v}: \", end=\"\")\n",
    "    for e in v.in_edges():\n",
    "        print(e, end=\" \")        \n",
    "    print()\n",
    "    \n",
    "for v in g.vertices():\n",
    "    print(f\"The out-degree of node {v} is {v.out_degree()} and its out-neighbors are: \", end=\"\")\n",
    "    for u in v.out_neighbors():\n",
    "        print(u, end=\" \")\n",
    "    print()\n",
    "\n",
    "    print(f\"The in-degree of node {v} is {v.in_degree()} and its in-neighbors are: \", end=\"\")\n",
    "    for u in v.in_neighbors():\n",
    "        print(u, end=\" \")\n",
    "    print()\n",
    "\n"
   ]
  },
  {
   "cell_type": "markdown",
   "metadata": {},
   "source": [
    "### Drawing Graphs\n",
    "\n",
    "``graph-tool`` has sophisticated routines for drawing graphs."
   ]
  },
  {
   "cell_type": "code",
   "execution_count": null,
   "metadata": {
    "collapsed": true
   },
   "outputs": [],
   "source": [
    "graph_draw(g, output_size=(200, 200));"
   ]
  },
  {
   "cell_type": "markdown",
   "metadata": {},
   "source": [
    "### Exercise 1\n",
    "\n",
    "Create and draw the following graph:\n",
    "\n",
    "<img src=\"https://upload.wikimedia.org/wikipedia/commons/9/96/K%C3%B6nigsberg_graph.svg\"/>\n",
    "\n",
    "\n",
    "### Exercise 2\n",
    "\n",
    "Using the graph created above:\n",
    "\n",
    "* Count the number of edges\n",
    "* Count the number of nodes\n",
    "* Calculate the average degree per node\n",
    "* Calculate the maximum and minimum number of neighbors\n",
    "* Calculate the number of nodes with degree = 3"
   ]
  },
  {
   "cell_type": "markdown",
   "metadata": {},
   "source": [
    "## Property maps\n",
    "\n",
    "In ``graph-tool`` we can attribute nodes and edges with arbitrary properties using property maps.\n",
    "\n",
    "Property maps can be of the following types:\n",
    "\n",
    "    \n",
    "|Type name                     | Alias                                   |\n",
    "|------------------------------|-----------------------------------------|\n",
    "|``bool``                      |    ``uint8_t``                          |\n",
    "|``int16_t``                   |    ``short``                            |\n",
    "|    ``int32_t``               |    ``int``                              |\n",
    "|    ``int64_t``               |    ``long``, ``long long``              |\n",
    "|    ``double``                |    ``float``                            |\n",
    "|    ``long double``           |                                         | \n",
    "|    ``string``                |                                         |\n",
    "|    ``vector<bool>``          |    ``vector<uint8_t>``                  |\n",
    "|    ``vector<int16_t>``       |    ``vector<short>``                    |\n",
    "|    ``vector<int32_t>``       |    ``vector<int>``                      |\n",
    "|    ``vector<int64_t>``       | ``vector<long>``, ``vector<long long>`` |\n",
    "|    ``vector<double>``        |    ``vector<float>``                    |\n",
    "|    ``vector<long double>``   |                                         |\n",
    "|    ``vector<string>``        |                                         |\n",
    "|    ``python::object``        |   ``object``                            |\n",
    "\n"
   ]
  },
  {
   "cell_type": "code",
   "execution_count": null,
   "metadata": {
    "collapsed": true
   },
   "outputs": [],
   "source": [
    "vsize = g.new_vp(\"int\")   # new vertex property map of type int\n",
    "eweight = g.new_ep(\"double\") # new edge property map of type double\n",
    "\n",
    "for v in g.vertices():\n",
    "    vsize[v] = 10\n",
    "    \n",
    "for e in g.edges():\n",
    "    eweight[e] = 3.2\n",
    "    \n",
    "# We can also access the values of property maps as numpy arrays:\n",
    "\n",
    "print(vsize.a)\n",
    "\n",
    "vsize.a = [3, 10, 5, 1, 15]\n",
    "vsize.a *= 4\n",
    "eweight.a = [3.2] * 4\n",
    "    \n",
    "# property maps can be used with many functions, e.g. graph_draw()\n",
    "\n",
    "graph_draw(g, vertex_size=vsize, vertex_fill_color=vsize, edge_pen_width=eweight, output_size=(300, 300));\n"
   ]
  },
  {
   "cell_type": "code",
   "execution_count": null,
   "metadata": {
    "collapsed": true
   },
   "outputs": [],
   "source": [
    "# shortest paths\n",
    "\n",
    "g = lattice([25, 25])\n",
    "\n",
    "vertices, edges = shortest_path(g, g.vertex(0), g.vertex(g.num_vertices() - 1))\n",
    "\n",
    "ecolor = g.new_ep(\"string\", val=\"black\")\n",
    "vcolor = g.new_vp(\"string\", val=\"black\")\n",
    "\n",
    "for v in vertices:\n",
    "    vcolor[v] = \"red\"\n",
    "for e in edges:\n",
    "    ecolor[e] = \"red\"\n",
    "\n",
    "pos = sfdp_layout(g, multilevel=True)\n",
    "\n",
    "graph_draw(g, pos=pos, vertex_fill_color=vcolor, edge_color=ecolor);\n"
   ]
  },
  {
   "cell_type": "code",
   "execution_count": null,
   "metadata": {
    "collapsed": true
   },
   "outputs": [],
   "source": [
    "# now we use random weights\n",
    "\n",
    "import numpy.random\n",
    "\n",
    "eweights = g.new_ep(\"double\")\n",
    "eweights.a = numpy.random.random(len(eweights.a))\n",
    "print(eweights.a)\n",
    "\n",
    "vertices, edges = shortest_path(g, g.vertex(0), g.vertex(g.num_vertices() - 1), weights=eweights)\n",
    "\n",
    "ecolor = g.new_ep(\"string\", val=\"black\")\n",
    "vcolor = g.new_vp(\"string\", val=\"black\")\n",
    "\n",
    "for v in vertices:\n",
    "    vcolor[v] = \"red\"\n",
    "for e in edges:\n",
    "    ecolor[e] = \"red\"\n",
    "\n",
    "ewidth = eweights.copy()\n",
    "ewidth.a = 1-ewidth.a \n",
    "    \n",
    "graph_draw(g, pos=pos, vertex_fill_color=vcolor, edge_color=ecolor, edge_pen_width=ewidth);"
   ]
  },
  {
   "cell_type": "markdown",
   "metadata": {},
   "source": [
    "#### Exercise 3\n",
    "\n",
    "Consider the weighted undirected graph corresponding to the following list of edges:\n",
    "\n",
    "    (a, b) weight = 0.6\n",
    "    (a, c) weight = 0.2\n",
    "    (c, d) weight = 0.1\n",
    "    (c, e) weight = 0.7\n",
    "    (c, f) weight = 0.9\n",
    "    (a, d) weight = 0.3\n",
    "\n",
    "* Create a graph with the edges above and two property maps, vlabel and vweight, with the vertex labels and edge weights, respectively.\n",
    "* Draw the graph, weith using the edge weight as edge width.\n",
    "* Compute the shortest path from 'b' to 'e' and draw it.\n",
    "* Change the edge weights so that the shortest path goes through 'd'.\n",
    "\n"
   ]
  },
  {
   "cell_type": "markdown",
   "metadata": {},
   "source": [
    "### Random graphs\n",
    "Banchmarking, testbeds"
   ]
  },
  {
   "cell_type": "markdown",
   "metadata": {},
   "source": [
    "### Exercise 4\n",
    "Plot the degree distribution (histogram) of the Erdős-Rényi graph generated as:\n",
    "```python\n",
    "g = random_graph(100000, lambda: numpy.random.poisson(5), directed=False)\n",
    "\n",
    "```"
   ]
  },
  {
   "cell_type": "markdown",
   "metadata": {},
   "source": [
    "## Graph IO and internal property maps"
   ]
  },
  {
   "cell_type": "code",
   "execution_count": null,
   "metadata": {
    "collapsed": true
   },
   "outputs": [],
   "source": [
    "g = random_graph(10000, lambda: (3,3))\n",
    "g.save(\"g.gt\") # The gt file format is a binary format that is very efficient\n",
    "\n",
    "u = load_graph(\"g.gt\")\n",
    "print(similarity(u, g))\n",
    "\n",
    "# Other fine formats are also supported\n",
    "g.save(\"g.xml\")  # GraphML file format\n",
    "g.save(\"g.dot\")  # Dot file format\n",
    "\n",
    "# Compression can be achieved by appending \".gz\", \".bz2\" or \".xz\" to the file names:\n",
    "\n",
    "g.save(\"g.gt.gz\")\n",
    "g.save(\"g.xml.bz2\")\n",
    "g.save(\"g.dot.xz\")\n",
    "\n",
    "u = load_graph(\"g.xml.bz2\")\n",
    "print(similarity(u, g))"
   ]
  },
  {
   "cell_type": "code",
   "execution_count": null,
   "metadata": {
    "collapsed": true
   },
   "outputs": [],
   "source": [
    "# If we want to store property maps with out graph, we need to make them internal\n",
    "\n",
    "eweight = g.new_ep(\"double\", vals=numpy.random.random(g.num_edges()))\n",
    "vcolor = g.new_vp(\"int\", vals=numpy.random.randint(0, 10, g.num_vertices()))\n",
    "\n",
    "g.ep[\"eweight\"] = eweight\n",
    "g.vp[\"vcolor\"] = vcolor\n",
    "\n",
    "g.list_properties()\n",
    "\n",
    "\n",
    "g.save(\"g.gt\")\n",
    "\n",
    "u = load_graph(\"g.gt\")\n",
    "u.list_properties()\n",
    "\n",
    "eweight = g.ep[\"eweight\"]\n",
    "vcolor = g.vp[\"vcolor\"]\n",
    "\n",
    "print(similarity(g, u, g.ep[\"eweight\"], u.ep[\"eweight\"]))\n"
   ]
  },
  {
   "cell_type": "code",
   "execution_count": null,
   "metadata": {
    "collapsed": true
   },
   "outputs": [],
   "source": [
    "# Shortcuts for property maps. The following two statements are equivalent:\n",
    "\n",
    "print(g.ep[\"eweight\"].a)\n",
    "print(g.ep.eweight.a)\n",
    "\n"
   ]
  },
  {
   "cell_type": "markdown",
   "metadata": {},
   "source": [
    "## Graph filtering and graph views"
   ]
  },
  {
   "cell_type": "code",
   "execution_count": null,
   "metadata": {
    "collapsed": true
   },
   "outputs": [],
   "source": [
    "g = collection.data[\"polblogs\"]\n",
    "graph_draw(g, pos=g.vp.pos);"
   ]
  },
  {
   "cell_type": "code",
   "execution_count": null,
   "metadata": {
    "collapsed": true
   },
   "outputs": [],
   "source": [
    "c = label_largest_component(g, directed=False)\n",
    "u = GraphView(g, vfilt=c)\n",
    "graph_draw(u, u.vp.pos);"
   ]
  },
  {
   "cell_type": "code",
   "execution_count": null,
   "metadata": {
    "collapsed": true
   },
   "outputs": [],
   "source": [
    "print(u)"
   ]
  },
  {
   "cell_type": "code",
   "execution_count": null,
   "metadata": {
    "collapsed": true
   },
   "outputs": [],
   "source": [
    "import matplotlib.cm\n",
    "\n",
    "vb, eb = betweenness(u)\n",
    "graph_draw(u, pos=u.vp.pos, vertex_color=vb, vertex_fill_color=vb, vertex_size=prop_to_size(vb, 5, 20),\n",
    "           vorder=vb, vcmap=matplotlib.cm.plasma);"
   ]
  },
  {
   "cell_type": "code",
   "execution_count": null,
   "metadata": {
    "collapsed": true
   },
   "outputs": [],
   "source": [
    "# Graph views can be composed.\n",
    "\n",
    "u.list_properties()"
   ]
  },
  {
   "cell_type": "code",
   "execution_count": null,
   "metadata": {
    "collapsed": true
   },
   "outputs": [],
   "source": [
    "# let's plot only the networks of right wing blogs\n",
    "w = GraphView(u, vfilt=lambda v: u.vp.value[v] == 1)   # the supplied lambda function evaluates to True \n",
    "                                                       # for vertices that are *kept* in the graph\n",
    "    \n",
    "graph_draw(w, w.vp.pos);"
   ]
  },
  {
   "cell_type": "code",
   "execution_count": null,
   "metadata": {
    "collapsed": true
   },
   "outputs": [],
   "source": [
    "# Let's look only at the connections between left and right wing\n",
    "w = GraphView(u, efilt=lambda e: u.vp.value[e.source()] != u.vp.value[e.target()])\n",
    "graph_draw(w, w.vp.pos);"
   ]
  },
  {
   "cell_type": "code",
   "execution_count": null,
   "metadata": {
    "collapsed": true
   },
   "outputs": [],
   "source": [
    "# We can transform graphs between directed and undirected (and vice-versa) using GraphView as well:\n",
    "\n",
    "w = GraphView(u, directed=False)\n",
    "graph_draw(w, w.vp.pos);"
   ]
  },
  {
   "cell_type": "markdown",
   "metadata": {},
   "source": [
    "### Exercise 5\n",
    "\n",
    "* Using `GraphView`, write a function that gets the undirected version of a directed graph and filters out vertices of degree 3 or smaller, returning the result.\n",
    "\n",
    "* Use the function above on the `polblogs` network.\n",
    "\n",
    "* What happens if you run that function iteratively, multiple times?"
   ]
  },
  {
   "cell_type": "markdown",
   "metadata": {},
   "source": [
    "# Community detection and statistical inference\n",
    "\n",
    "Graph-tool has extensive functionally to detect modules (or \"communities\") of nodes using principled statistical inference approaches. A detailed howto can be found here: https://graph-tool.skewed.de/static/doc/demos/inference/inference.html"
   ]
  },
  {
   "cell_type": "code",
   "execution_count": null,
   "metadata": {
    "collapsed": true
   },
   "outputs": [],
   "source": [
    "g = collection.data[\"polblogs\"]\n",
    "g = extract_largest_component(g, directed=False, prune=True)\n",
    "\n",
    "graph_draw(g, pos=g.vp.pos);"
   ]
  },
  {
   "cell_type": "code",
   "execution_count": null,
   "metadata": {
    "collapsed": true
   },
   "outputs": [],
   "source": [
    "# Suppose we want to figure out the groups, without \"looking\" at the network or using the metadata.\n",
    "# We can do this by fitting the stochastic block model (SBM):\n",
    "\n",
    "state = minimize_blockmodel_dl(g, B_min=2, B_max=2)  # we will force B=2 groups for now\n",
    "\n",
    "b = state.get_blocks()\n",
    "print(b.a)\n",
    "\n",
    "state.draw(pos=g.vp.pos);"
   ]
  },
  {
   "cell_type": "code",
   "execution_count": null,
   "metadata": {
    "collapsed": true
   },
   "outputs": [],
   "source": [
    "# What if we don't set the number of groups?\n",
    "\n",
    "state = minimize_blockmodel_dl(g)\n",
    "print(state)\n",
    "state.draw(pos=g.vp.pos);\n"
   ]
  },
  {
   "cell_type": "code",
   "execution_count": null,
   "metadata": {
    "collapsed": true
   },
   "outputs": [],
   "source": [
    "# We can also fit hierarchical SBMs, which have a stronger explanatory power:\n",
    "\n",
    "state = minimize_nested_blockmodel_dl(g)\n",
    "state.draw();"
   ]
  },
  {
   "cell_type": "markdown",
   "metadata": {},
   "source": [
    "### Exercise  6\n",
    "\n",
    "* Generate a random graph with 1000 nodes and with a Poisson degree distribution with mean 1.2.\n",
    "* Draw the graph.\n",
    "* Fit a SBM (non-nested) on it. How many groups does it find? Do you find this reasonable?\n",
    "\n",
    "### Exercise 7\n",
    "\n",
    "* The network `collection.data[\"dolphins\"]` contains the network of friendships between 62 dolphins.\n",
    "* Use the SBM to investigate its structure: Fit the SBM and visualize the result."
   ]
  },
  {
   "cell_type": "markdown",
   "metadata": {},
   "source": [
    "# Dynamics on networks\n",
    "\n",
    "With ``graph-tool`` it's possible to simulate various dynamical processes on networks, see: https://graph-tool.skewed.de/static/doc/dynamics.html\n",
    "\n",
    "## Example: Susceptible-Infectious (SI) model for epidemics\n",
    "\n",
    "This is a simple stochastic model, where at any given time a node that is in the susceptible (S) state can become infections (I) with a probabilit $\\beta$ via one of its neighbors that are also in the I state."
   ]
  },
  {
   "cell_type": "code",
   "execution_count": null,
   "metadata": {
    "collapsed": true
   },
   "outputs": [],
   "source": [
    "g = collection.data[\"pgp-strong-2009\"]\n",
    "state = SIState(g, beta=0.01)  # This initalizes the state with one random infected node\n",
    "                               # and all others in the S state\n",
    "\n",
    "# we will keep around the number of infected nodes\n",
    "X = []\n",
    "for t in range(1000):\n",
    "    ret = state.iterate_sync() # all nodes are updated at the same time\n",
    "    X.append(state.get_state().fa.sum())\n",
    "\n",
    "import matplotlib.pyplot as plt\n",
    "plt.plot(X)\n",
    "plt.xlabel(r\"Time\")\n",
    "plt.ylabel(r\"Infected nodes\");"
   ]
  },
  {
   "cell_type": "markdown",
   "metadata": {},
   "source": [
    "### Exercise 8\n",
    "\n",
    "Modify the above code so that the initial infected node is the one with the largest total degree (in + out). Look at the documentation for `SIState` to find out how to do this. What difference do you observe?"
   ]
  },
  {
   "cell_type": "markdown",
   "metadata": {},
   "source": [
    "### Exercise 9\n",
    "\n",
    "Visualize the spread of the epidemic by plotting snapshots (3 or 4) of the network at several stages, using the node colors as the node state. For all snapshots, use the same positions of the node given by the internal property map called `\"pos\"`. \n"
   ]
  },
  {
   "cell_type": "markdown",
   "metadata": {},
   "source": [
    "## Example: Binary opinion dynamics\n",
    "\n",
    "We can use a simple binary majority threshold model, i.e. every node takes the majority opinion of its neighbours, which can be either `O` or `1`."
   ]
  },
  {
   "cell_type": "code",
   "execution_count": null,
   "metadata": {
    "collapsed": true
   },
   "outputs": [],
   "source": [
    "g = collection.data[\"pgp-strong-2009\"]\n",
    "state = BinaryThresholdState(g, r=0.25)  # The paramter 'r' controls the random noise strength,\n",
    "                                         # i.e. random transitions\n",
    "\n",
    "X = []\n",
    "for t in range(1000):\n",
    "    ret = state.iterate_sync() # all nodes are updated at the same time\n",
    "    X.append(state.get_state().fa.sum())\n",
    "\n",
    "import matplotlib.pyplot as plt\n",
    "plt.plot(X)\n",
    "plt.xlabel(r\"Time\")\n",
    "plt.ylabel(r\"Fraction of nodes with state 1\");"
   ]
  },
  {
   "cell_type": "markdown",
   "metadata": {},
   "source": [
    "### Exercise 10:\n",
    "\n",
    "Simulate the binary opinion dynamics above on the undirected `polblogs` graph obtained as:\n",
    "\n",
    "```python\n",
    "g = gt.GraphView(gt.collection.data[\"polblogs\"], directed=False)\n",
    "gt.remove_parallel_edges(g)\n",
    "g = gt.extract_largest_component(g, prune=True)\n",
    "```\n",
    "\n",
    "Run the dynamics a few times from the beginning, and draw the network with the final states as node colors. What kind of behaviors do you observe? Can you explain them?"
   ]
  },
  {
   "cell_type": "markdown",
   "metadata": {},
   "source": [
    "**(Very) advanced:** Take a look at how it's possible to write extensions for graph-tool using C++: https://graph-tool.skewed.de/static/doc/demos/cppextensions/cppextensions.html"
   ]
  },
  {
   "cell_type": "code",
   "execution_count": null,
   "metadata": {
    "collapsed": true
   },
   "outputs": [],
   "source": []
  },
  {
   "cell_type": "code",
   "execution_count": null,
   "metadata": {
    "collapsed": true
   },
   "outputs": [],
   "source": []
  }
 ],
 "metadata": {
  "kernelspec": {
   "display_name": "Python 3",
   "language": "python",
   "name": "python3"
  },
  "language_info": {
   "codemirror_mode": {
    "name": "ipython",
    "version": 3
   },
   "file_extension": ".py",
   "mimetype": "text/x-python",
   "name": "python",
   "nbconvert_exporter": "python",
   "pygments_lexer": "ipython3",
   "version": "3.8.5"
  }
 },
 "nbformat": 4,
 "nbformat_minor": 4
}
