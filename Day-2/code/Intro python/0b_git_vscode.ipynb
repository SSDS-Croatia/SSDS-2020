{
 "cells": [
  {
   "cell_type": "markdown",
   "metadata": {
    "slideshow": {
     "slide_type": "slide"
    }
   },
   "source": [
    "# Working with `git` and Visual Studio Code\n",
    "\n",
    "**September 08 2020**  \n",
    "*Vincenzo Perri*\n",
    "\n",
    "Now that we have set up our data science environment, we introduce the distributed versioning system `git` as well as the Open Source development environment Visual Studio Code, which you can optionally use to interact with a `jupyter` kernel and collaborate via `git`."
   ]
  },
  {
   "cell_type": "markdown",
   "metadata": {
    "slideshow": {
     "slide_type": "slide"
    }
   },
   "source": [
    "## Using the distributed versioning system `git`\n",
    "\n",
    "While you can download all code and data necessary to complete the exercises from [Moodle](https://...), we recommend to use the distributed version control system `git` to (i) clone the code of the practice lectures from gitHub, and (ii) collaborate on the group exercises. I generally cannot recommend `git` enough for any files or directories for which versioning is useful, even if you are working alone on your local machine. It can save you if you accidentially deleted a file or a text section in a report, allowing you two switch back and forth between different versions of your work.\n",
    "\n",
    "In the following, we will give a brief introduction to `git`. `git` is extremely powerful and while it is simple to use for basic tasks, performing more advanced tasks in a collaborative environment with multiple parties requires some exercise. `git` is widely used for software development, data science projects, as well as all types of collaborative editing tasks. It has largely superseded versioning systems like CVS or SVN.\n",
    "\n",
    "Let us first make sure that you have installed `git`. Some Linux systems come with a pre-installed `git` distribution, or offer the installation of `git` via the official package repository (e.g. `apt` on Ubuntu). For Mac and Windows, you can download the `git` command line tools [here](https://git-scm.com/download/). Assuming you have a working installation of `git`, you can clone a remote repository by executing the following command in the terminal. Note that the `git` distribution above comes with a special `git bash` terminal, that makes it particularly easy to work with `git`.\n",
    "\n",
    "The basic unit in `git` (as well as in CVS and SVN) is a repository, which we can simply think of as a versioned directory that contain files as well as subdirectories. Just like in CVS or SVN, we first need a local copy of a repository. We can locally edit the files in our local repository. When we have reached a state that we wish to save in a new revision, or that we wish to share with our collaborators, we peform a `commit` operation, which permanently records the changes that we have made, while keeping the version of all files in the previous commit. If you are familiar with the versioning systems CVS and SVN, you will know that those are based on a server that maintains a central server of the repository. Thus, a commit in CVS and SVN will actually transfer the local changes to the remote repository. A major difference in `git` is that repositories are completely decentralised, i.e. no server is needed to perform a commit. Instead, a `git` repository can locally record the full history of commits independent of any central server. Nevertheless we can easily collaborate with others, simply by creating a local clone of their repository. The local commits of other developers and our own commits can then be exchanged by explicitly pulling remote changes (i.e. multiple commits) to our local repository, or pushing local commits to the remote repository. \n",
    "\n",
    "If we are dealing with multiple collaborators, we can actually host a remote repository on a server, which then acts much like the central server in CVS/SVN. However, it is important to note that all clones of this repository nevertheless store the full history, i.e. the central repository can later be deleted without losing any information. A popular way to centrally host such `git` repositories is `github` or an institutional `gitlab` server.\n",
    "\n",
    "Let's now get our hands dirty and play with git. We first create a local repository in our filesystem. For this, we simply open a `git` terminal, enter the directory that shall contain the files we wish to version and execute:\n",
    "\n",
    "```\n",
    "> git init\n",
    "```\n",
    "\n",
    "Whenever we are in a subdirectory of a `git` repository, we can execute \n",
    "\n",
    "```\n",
    "> git status\n",
    "```\n",
    "\n",
    "to check the current status of the repository. This will indicate whether there are any (i) newly created untracked files, or (ii) changes to tracked files that have not been committed. Let us try this by creating a new text file `file1.txt` and running `git status` again. We now see that `git` has discovered an untracked file, i.e. a file that exists locally but that has not been added to the repository yet. By default files are untracked unless we specifically add them, which is useful because we often have local temporary files that we do not really want to include in the versioning. We can use the command `git add` to explicitly add a file to the repository, i.e. \n",
    "\n",
    "```\n",
    "> git add file1.txt\n",
    "```\n",
    "\n",
    "With this command, you basically tell `git` that you would like to track a file, but we have not yet committed the file. We can do this by executing: \n",
    "\n",
    "```\n",
    "> git commit -am 'added a file'\n",
    "```\n",
    "\n",
    "The option `-a` automatically commits all changes to tracked files but it will not touch any new files that you haven't explicitly told `git` to track via the `git add` command. The `-m` option allows you specify a commit comment on the command line. If you now check the status again using\n",
    "\n",
    "```\n",
    "> git status\n",
    "```\n",
    "\n",
    "you will see that there are now changes that have not been committed. Moreover, executing \n",
    "\n",
    "```\n",
    "> git log\n",
    "```\n",
    "\n",
    "shows the history of the repository, which in our case consists of a single commit. Let us now make a change in the file `file1.txt`, commit the change and then check the log again.\n",
    "\n",
    "```\n",
    "> git commit -am 'changed file'\n",
    "> git log\n",
    "```\n",
    "\n",
    "It is not surprising that the log now contains two entries, one representing the state of the file before our change and one representing the state of the file after the change. Using the `git show` and `git checkout` command, we can show the changes made in a specific commit and we can easily move back and forth between different versions. To uniquely identidy a specific commit, `git` uses hash values that are represented as a long sequence of letters and numbers. You can see those hash values in an entry like this in the log:\n",
    "\n",
    "```\n",
    "commit d50bedf3304bafc865ff3cc4a73f91a423aeb02c (HEAD -> master)\n",
    "Author: Ingo Scholtes <scholtes@uni-wuppertal.de>\n",
    "Date:   Wed Oct 9 09:15:41 2019 +0200\n",
    "\n",
    "    changed file\n",
    "```\n",
    "\n",
    "Don't worry, you won't have to type the whole hash value to display the context of a commit. It is enough to give the first few characters that uniquely identify a commit within your repository. Let's see what was changed in that file in our last commit:\n",
    "\n",
    "```\n",
    "> git show d50bed\n",
    "```\n",
    "\n",
    "This will print lines that have been deleted (red) and added (green) compared to the previous version. If we want to move to the previous version of the file, we can simply checkout this version using the `git checkout` command, specifying the hash of the previous commit that we want to checkout:\n",
    "\n",
    "```\n",
    "> git checkout 5126\n",
    "```\n",
    "\n",
    "You will find that the file is now at the state before our last commit. To go back to the latest version in the main (master) branch of our repository, we can simply execute: \n",
    "\n",
    "```\n",
    "> git checkout master\n",
    "```\n",
    "\n",
    "and you will find that the file is at the latest state again. These simple commands can help you a lot when you develop code or write a report or thesis. It also allows you to archive the whole history of a project simply by archiving the folder that includes the git repository data. Ay repository meta data containing previous versions of files etc. is automatically stored in a hidden directory `.git`."
   ]
  },
  {
   "cell_type": "markdown",
   "metadata": {},
   "source": [
    "## Working with remote `git` repositories"
   ]
  },
  {
   "cell_type": "markdown",
   "metadata": {},
   "source": [
    "While working with `git` repositories locally is helpful, the real power of `git` only becomes apparant when collaborating with others via **remote repositories**. Again, `git` uses a fully distributed approach so technically there is no difference between your local repository and a remote repository. Indeed, from the perspective of the other party, your local repository is actually the remote repository. In any case, we can push and pull commits between the repositories to synchronize them, while automatically or manually handling merges or possible conflicting changes.\n",
    "\n",
    "The first question we have to answer is how to link a repository to a remote repository. Tosee all existing links of a repository to remote repositories we can open a `git` terminal and run the command \n",
    "\n",
    "```\n",
    "git remote -v \n",
    "```\n",
    "\n",
    "within the local repository created above. It is not surprising that this shows an empty list, because we have not linked it to a remote repository yet. There is two basic ways how such a link can be established: \n",
    "\n",
    "1.) We could clone an already existing remote repository to obtain a local copy (that includes the whole history) which is automatically linked to the remote repository.\n",
    "2.) We can use a local working repository and push it to a a newly created so-called bare repository at a remote location, that can then be cloned by our collaborators.\n",
    "\n",
    "Let's start with the second approach and then show how the first approach works later. We first need a bare `git` repository hosted at a remote location that can be accessed by our collaborators. The Web provider [github](https://www.github.com) provides free access to such repositories. Similarly, we can use a privately hosted instance of [gitLab](https://www.gitlab.com). Both are very similar in terms of handling. Once you have created an account, you can simply create a new repository. Do not check the box to initialise the repository, as we want a bare repository to which we can push our already existing local repository.\n",
    "\n",
    "Once this repository has been created, you will have to check the URL of your repository (e.g. using the HTTPS protocol). We then add this URL as a new remote location that we will call `origin` to our local repository.\n",
    "\n",
    "```\n",
    "> git remote add origin https://YOUR_URL.git\n",
    "```\n",
    "\n",
    "We then push all the commits in the `master` branch of our local repository to the remote location `origin`. The parameter `-u` sets this remote location as the default `upstream` location of this branch, i.e. in the future you can simply run `git push` to send your changes in this branch to the remote repository.\n",
    "\n",
    "```\n",
    "> git push -u origin master\n",
    "```\n",
    "\n",
    "That's all. Now the remote repository hosted on gitHub or gitLab contains the same history than your local `master` branch. You can now point a collaborator to this URL to start collaborating on the project. They will need to make a local copy of repository that is linked to the remote location. This is easy, all they have to do is open a terminal and run: \n",
    "\n",
    "```\n",
    "> git clone HTTPS://YOUR_URL.git LOCAL_DIRECTORY\n",
    "```\n",
    "\n",
    "which will create a local working copy of the remote repository. Running the `git remote` command again, i.e. \n",
    "\n",
    "\n",
    "```\n",
    "git remote -v \n",
    "```\n",
    "\n",
    "shows that this local working copy is automatically linked to the remote repository (named `origin` by default) from which it was cloned. Your collaborators can now work on files, commit changes, etc. The latest version from the remote repository can be pulled by executing \n",
    "\n",
    "```\n",
    "> git pull\n",
    "```\n",
    "\n",
    "while any locally comitted changes can be pushed to the remote repository via \n",
    "\n",
    "```\n",
    "> git push\n",
    "```\n",
    "\n",
    "This is probably enough to digest for now and for a more in-depth introduction to `git` I refer you to the [official documentation](https://git-scm.com/doc). Anyway for the group exercises you will hardly need more than what we introduced above. Moreover, if you are using Visual Studio Code (see below) syncing a repository (i.e. pulling remote changes and pushing local changes) is even easier: Just click the **sync** symbol in the status bar of Visual Studio Code to update your local copy of the repository and pushing any pending commits."
   ]
  },
  {
   "cell_type": "markdown",
   "metadata": {
    "slideshow": {
     "slide_type": "slide"
    }
   },
   "source": [
    "## Introducing Visual Studio Code\n",
    "\n",
    "While the web-based editor of `jupyter lab` is probably the easiest way to develop interactive data science projects, for those preferring a more powerful development environment we finally introduce [Visual Studio Code](https://code.visualstudio.com/Download). Visual Studio Code a platform-independent Open Source code editor that is freely available for Windows, MacOS X, and Linux. Don't mix this up with *Visual Studio*, which is Microsoft's commercial development environment for Windows. \n",
    "\n",
    "To install Visual Studio Code, you can either manually download the installation file from the link above and run the setup, or you can directly install it as a package from the [Anaconda Navigator](https://docs.anaconda.com/anaconda/navigator/). Once the installation has completed, you can run Visual Studio Code either by clicking the icon or by typing `code` in the terminal of your operating system."
   ]
  },
  {
   "cell_type": "markdown",
   "metadata": {
    "slideshow": {
     "slide_type": "subslide"
    }
   },
   "source": [
    "To conveniently work with `python` and `jupyter` notebooks, we will need the official [Python](https://marketplace.visualstudio.com/items?itemName=ms-python.python) extension, which adds `python` code editing, debugging, and linting functionality. You can install it from the Extension Manager that is integrated in Visual Studio Code. Just click the \"module\" icon in the bottom of the left menu bar or press `Ctrl+Shift+X`. This will bring up the Extensions window. Type `python` and click the top-most search result [Python 2019.3.6139](https://marketplace.visualstudio.com/items?itemName=ms-python.python). In the window on the right, click install. A restart of Visual Studio Code completes the installation.\n",
    "\n",
    "Once the installation is finished, open Visual Studio Code, click `File -> Open Folder` and navigate to a folder that shall contain your `python` code files. Create a new file and save it as `test.py`. Let us now explore how we can use `jupyter` from within VS Code. Copy the following code into your `python` file (the last line is wrong on purpose):"
   ]
  },
  {
   "cell_type": "code",
   "execution_count": 1,
   "metadata": {},
   "outputs": [
    {
     "ename": "SyntaxError",
     "evalue": "invalid syntax (<ipython-input-1-e2e288d370b7>, line 8)",
     "output_type": "error",
     "traceback": [
      "\u001b[1;36m  File \u001b[1;32m\"<ipython-input-1-e2e288d370b7>\"\u001b[1;36m, line \u001b[1;32m8\u001b[0m\n\u001b[1;33m    x:= 42\u001b[0m\n\u001b[1;37m      ^\u001b[0m\n\u001b[1;31mSyntaxError\u001b[0m\u001b[1;31m:\u001b[0m invalid syntax\n"
     ]
    }
   ],
   "source": [
    "#%%\n",
    "x = 'Hello World'\n",
    "\n",
    "#%%\n",
    "print(x)\n",
    "\n",
    "#%% \n",
    "x:= 42"
   ]
  },
  {
   "cell_type": "markdown",
   "metadata": {
    "slideshow": {
     "slide_type": "subslide"
    }
   },
   "source": [
    "As you can see above, we have added some lines `#%%`, i.e. the comment character `#` followed by `%%`. For Visual Studio Code this marks the beginning of a computable `jupyter` cell and a soc-alled Code Lens `Run Cell` will appear above those lines. We can now execute the code in a `jupyter cell` (delimited by the two `#%%` tags) by clicking the `Run Cell` command. \n",
    "\n",
    "Try this with the first cell. When you first run a cell, Visual Studio Code will start a `jupyter` server with a new `python` kernel. Once it is ready a `Python Interactice` window will show up on the right side of the window, which displays both the input as well as potential outputs. Running the second cell will add both an input and an output cell. If for some reason we don't want to use the jupyter kernel, we can simply execute the whole code file using our standard python interpreter. We can just hit F5 or click 'Debug -> Start Debugging'. Note that the cell delimiters are simply ignored as the `python` interpreter interprets them as comments. \n",
    "\n",
    "As you can see  in the third cell, Visual Studio Code will automatically highlight syntax errors (and, to a certain extent, type errors) as you write your code. Moreover, Visual Studio Code automatically shows documentation extracted from the `docstring` of python classes and methods. You can try this by typing `print(`, which will bring up the documentation of parameters of the `print` function. You can bring up this intelligent help manually by hitting CTRL-SPACE. \n",
    "\n",
    "Finally, VS Code comes with integrated support for git repository. As soon as you open a file or directory that is located within a `git` repository, the bottom left corner of the status bar shows a branch symbol \"master\". Next to the symbol a small sync icon is displayed. Whenever you click this icon, you will automatically pull changes from the remote repository, and push any pending local commits. Via the `git` item in the left navigation bar (third symbol from the top), you can switch to a list of local changes and untracked files. You can now add those changes that you wish to commit, eneter a commit message and press CTRL-Enter to create a local commit. Moreover, you can manually push or pull changes."
   ]
  },
  {
   "cell_type": "code",
   "execution_count": null,
   "metadata": {},
   "outputs": [],
   "source": []
  }
 ],
 "metadata": {
  "celltoolbar": "Slideshow",
  "kernelspec": {
   "display_name": "Python 3",
   "language": "python",
   "name": "python3"
  },
  "language_info": {
   "codemirror_mode": {
    "name": "ipython",
    "version": 3
   },
   "file_extension": ".py",
   "mimetype": "text/x-python",
   "name": "python",
   "nbconvert_exporter": "python",
   "pygments_lexer": "ipython3",
   "version": "3.8.2"
  },
  "toc": {
   "base_numbering": 1,
   "nav_menu": {},
   "number_sections": true,
   "sideBar": true,
   "skip_h1_title": false,
   "title_cell": "Table of Contents",
   "title_sidebar": "Contents",
   "toc_cell": false,
   "toc_position": {},
   "toc_section_display": true,
   "toc_window_display": false
  }
 },
 "nbformat": 4,
 "nbformat_minor": 2
}
