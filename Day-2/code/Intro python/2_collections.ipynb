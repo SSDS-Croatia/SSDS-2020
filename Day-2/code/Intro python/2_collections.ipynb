{
 "cells": [
  {
   "cell_type": "markdown",
   "metadata": {},
   "source": [
    "# Lists, Sets and High-Performance Collections\n",
    "\n",
    "**September 08 2020**  \n",
    "*Vincenzo Perri* \n",
    "\n",
    "A particularly appealing feature of python is its powerful built-in support for list, sequences, sets and dictionaries. Here we introduce some basics as well as advanced features like high-performance collections, that are crucial when processing large data sets.\n",
    "\n",
    "## Lists and List Comprehension\n",
    "\n",
    "Different from many other languages, in `python` lists are first-class citizens of the language, which makes their use particularly convenient. A list consisting of elements with arbitrary (and different) types can be defined by grouping them with angular brackets:"
   ]
  },
  {
   "cell_type": "code",
   "execution_count": 1,
   "metadata": {},
   "outputs": [],
   "source": [
    "l = [1, 42, 'test', True, 7.5, 'x']"
   ]
  },
  {
   "cell_type": "markdown",
   "metadata": {
    "slideshow": {
     "slide_type": "subslide"
    }
   },
   "source": [
    "The `append` function can be used to add an element to the end of a list:"
   ]
  },
  {
   "cell_type": "code",
   "execution_count": 2,
   "metadata": {},
   "outputs": [
    {
     "name": "stdout",
     "output_type": "stream",
     "text": [
      "[1, 42, 'test', True, 7.5, 'x', 'one more item']\n"
     ]
    }
   ],
   "source": [
    "l.append('one more item')\n",
    "print(l)"
   ]
  },
  {
   "cell_type": "markdown",
   "metadata": {
    "slideshow": {
     "slide_type": "subslide"
    }
   },
   "source": [
    "We can access list elements via their zero-based index."
   ]
  },
  {
   "cell_type": "code",
   "execution_count": 3,
   "metadata": {},
   "outputs": [
    {
     "name": "stdout",
     "output_type": "stream",
     "text": [
      "1\n",
      "test\n"
     ]
    }
   ],
   "source": [
    "print(l[0])\n",
    "print(l[2])"
   ]
  },
  {
   "cell_type": "markdown",
   "metadata": {},
   "source": [
    "We can access the last entry by using the index -1:"
   ]
  },
  {
   "cell_type": "code",
   "execution_count": 4,
   "metadata": {},
   "outputs": [
    {
     "name": "stdout",
     "output_type": "stream",
     "text": [
      "one more item\n"
     ]
    }
   ],
   "source": [
    "print(l[-1])"
   ]
  },
  {
   "cell_type": "markdown",
   "metadata": {
    "slideshow": {
     "slide_type": "subslide"
    }
   },
   "source": [
    "The `insert` function allows us to insert an element at a given index."
   ]
  },
  {
   "cell_type": "code",
   "execution_count": 5,
   "metadata": {},
   "outputs": [
    {
     "name": "stdout",
     "output_type": "stream",
     "text": [
      "[1, 42, 42.0, 'test', True, 7.5, 'x', 'one more item']\n"
     ]
    }
   ],
   "source": [
    "l.insert(2, 42.0)\n",
    "print(l)"
   ]
  },
  {
   "cell_type": "markdown",
   "metadata": {
    "slideshow": {
     "slide_type": "subslide"
    }
   },
   "source": [
    "The `remove` function removes all occurrences of a given value from the list."
   ]
  },
  {
   "cell_type": "code",
   "execution_count": 6,
   "metadata": {},
   "outputs": [
    {
     "name": "stdout",
     "output_type": "stream",
     "text": [
      "[1, 42, 42.0, True, 7.5, 'x', 'one more item']\n"
     ]
    }
   ],
   "source": [
    "l.remove('test')\n",
    "print(l)"
   ]
  },
  {
   "cell_type": "markdown",
   "metadata": {
    "slideshow": {
     "slide_type": "subslide"
    }
   },
   "source": [
    "Finally, we can use the `pop` function to remove (and return) an element at a given index. If no index is specified the function will remove the last element in the list. This implies that we can simply use the `append` and `pop` functions of the `list` class if we need a LIFO stack data structure. If we need  a FIFO queue, we can simply use `insert(0, x)` and `pop()` on a `list`:"
   ]
  },
  {
   "cell_type": "code",
   "execution_count": 7,
   "metadata": {},
   "outputs": [
    {
     "name": "stdout",
     "output_type": "stream",
     "text": [
      "1\n",
      "[42, 42.0, True, 7.5, 'x', 'one more item']\n",
      "one more item\n",
      "[42, 42.0, True, 7.5, 'x']\n"
     ]
    }
   ],
   "source": [
    "print(l.pop(0))\n",
    "print(l)\n",
    "\n",
    "print(l.pop())\n",
    "print(l)"
   ]
  },
  {
   "cell_type": "markdown",
   "metadata": {
    "slideshow": {
     "slide_type": "subslide"
    }
   },
   "source": [
    "Lists are iterable objects for which we can directly iterate through the elements by a for-loop:"
   ]
  },
  {
   "cell_type": "code",
   "execution_count": 8,
   "metadata": {},
   "outputs": [
    {
     "name": "stdout",
     "output_type": "stream",
     "text": [
      "42\n",
      "42.0\n",
      "True\n",
      "7.5\n",
      "x\n"
     ]
    }
   ],
   "source": [
    "for element in l:\n",
    "    print(element)"
   ]
  },
  {
   "cell_type": "markdown",
   "metadata": {
    "slideshow": {
     "slide_type": "subslide"
    }
   },
   "source": [
    "A powerful concept in `python` is **list comprehension**. It allows to define lists using an intuitive notation, which resembles the mathematical definition of sequences. The general syntax is:\n",
    "\n",
    "`[expression for element in iterable]`\n",
    "\n",
    "This is useful to generate number sequences based on arbitrary mathematical expressions. For instance, we can define a list that contains the first 10 values of the harmonic sequence $\\frac{1}{x}$ as follows:"
   ]
  },
  {
   "cell_type": "code",
   "execution_count": 9,
   "metadata": {},
   "outputs": [
    {
     "name": "stdout",
     "output_type": "stream",
     "text": [
      "[1.0, 0.5, 0.3333333333333333, 0.25, 0.2, 0.16666666666666666, 0.14285714285714285, 0.125, 0.1111111111111111]\n"
     ]
    }
   ],
   "source": [
    "x = [1/x for x in range(1,10)]\n",
    "print(x)"
   ]
  },
  {
   "cell_type": "markdown",
   "metadata": {},
   "source": [
    "## Dictionaries\n",
    "\n",
    "Different from a list, a dictionary is a structure that contains key-value pairs, i.e. we have a set of (unique) keys, each of which is assigned exactly one value (though this value can be a list containing several items). We can create an empty dictionary either by using the constructor of the `dict` class. We can then assign values to the keys in a dictionary `d` by using the bracket notation `d[key] = value`.\n",
    "\n",
    "Let us define an empty dictionary and assign values to string keys:"
   ]
  },
  {
   "cell_type": "code",
   "execution_count": 10,
   "metadata": {},
   "outputs": [
    {
     "name": "stdout",
     "output_type": "stream",
     "text": [
      "{'key1': 42, 'key2': 'some string', 'key3': True, 'key4': 4.5}\n"
     ]
    }
   ],
   "source": [
    "d = {}\n",
    "d['key1'] = 42\n",
    "d['key2'] = 'some string'\n",
    "d['key3'] = True\n",
    "d['key4'] = 4.5\n",
    "print(d)"
   ]
  },
  {
   "cell_type": "markdown",
   "metadata": {
    "slideshow": {
     "slide_type": "subslide"
    }
   },
   "source": [
    "We can alternatively use the curly bracket notation `{ key1: value1, key2: value2}` to define a dictionary with multiple key-value pairs."
   ]
  },
  {
   "cell_type": "code",
   "execution_count": 11,
   "metadata": {},
   "outputs": [],
   "source": [
    "d = {'key1': 42, 'key2': 'some string', 'key3': True, 'key4': 4.5}"
   ]
  },
  {
   "cell_type": "markdown",
   "metadata": {
    "slideshow": {
     "slide_type": "subslide"
    }
   },
   "source": [
    "If we assign a value to a key, the dictionary is either expanded, or the value of an existing key will be overwritten."
   ]
  },
  {
   "cell_type": "code",
   "execution_count": 12,
   "metadata": {},
   "outputs": [
    {
     "name": "stdout",
     "output_type": "stream",
     "text": [
      "{'key1': 42, 'key2': 'some string', 'key3': True, 'key4': 5}\n",
      "{'key1': 42, 'key2': 'some string', 'key3': True, 'key4': 5, 'key5': 'expanded'}\n"
     ]
    }
   ],
   "source": [
    "d['key4'] = 5\n",
    "print(d)\n",
    "\n",
    "d['key5'] = 'expanded'\n",
    "print(d)"
   ]
  },
  {
   "cell_type": "markdown",
   "metadata": {
    "slideshow": {
     "slide_type": "subslide"
    }
   },
   "source": [
    "We can use the `in` operator to check whether a key is already contained in the dictionary. The implementation of python dictionaries internally hashes keys, which turns this into an O(1) operation."
   ]
  },
  {
   "cell_type": "code",
   "execution_count": 13,
   "metadata": {},
   "outputs": [
    {
     "name": "stdout",
     "output_type": "stream",
     "text": [
      "True\n",
      "False\n"
     ]
    }
   ],
   "source": [
    "print('key1' in d)\n",
    "print('not present' in d)"
   ]
  },
  {
   "cell_type": "markdown",
   "metadata": {
    "slideshow": {
     "slide_type": "subslide"
    }
   },
   "source": [
    "When we iterate over a dictionary, we actually iterate over the keys and the keys are not guaranteed to be the same order as they were added. We can also use the `items()` function to iterate over key-value pairs."
   ]
  },
  {
   "cell_type": "code",
   "execution_count": 14,
   "metadata": {},
   "outputs": [
    {
     "name": "stdout",
     "output_type": "stream",
     "text": [
      "key key1 -> value 42\n",
      "key key2 -> value some string\n",
      "key key3 -> value True\n",
      "key key4 -> value 5\n",
      "key key5 -> value expanded\n",
      "---\n",
      "key key1 -> value 42\n",
      "key key2 -> value some string\n",
      "key key3 -> value True\n",
      "key key4 -> value 5\n",
      "key key5 -> value expanded\n"
     ]
    }
   ],
   "source": [
    "for k in d:\n",
    "    print('key {0} -> value {1}'.format(k, d[k]))\n",
    "print('---')\n",
    "for k, v in d.items():\n",
    "    print('key {0} -> value {1}'.format(k, v))"
   ]
  },
  {
   "cell_type": "markdown",
   "metadata": {
    "slideshow": {
     "slide_type": "subslide"
    }
   },
   "source": [
    "## Sets and Tuples\n",
    "\n",
    "Speaking of order, lists are ordered and elements are not necessarily unique. Thus, if we test two lists for equality both the order of elements as well as multiple instances of the same element are considered. The following code creates three lists with integers 1,2,3,4. In list 1 and 2 elements are in different order, in list 3 one integer occurs twice, which means they are different objects in `python`:"
   ]
  },
  {
   "cell_type": "code",
   "execution_count": 15,
   "metadata": {},
   "outputs": [
    {
     "name": "stdout",
     "output_type": "stream",
     "text": [
      "False\n",
      "False\n"
     ]
    }
   ],
   "source": [
    "a = [1, 2, 3, 4]\n",
    "b = [2, 1, 3, 4]\n",
    "c = [2, 1, 3, 4, 4]\n",
    "print(a==b)\n",
    "print(b==c)"
   ]
  },
  {
   "cell_type": "markdown",
   "metadata": {},
   "source": [
    "An important consequence from the fact that each element in a list can occur multiple times is the performance of a lookup operation. When we check whether a list contains a given element, python internally iterates over the list, which means different from a dictionary the performance of the `in` operator is in O(n) where $n$ is the number of list elements.\n",
    "\n",
    "If we want to store unordered collections of unique elements, we can use the `set` class. This class offers the `add` function to add elements. In a `set`, the same element will not be added twice:"
   ]
  },
  {
   "cell_type": "code",
   "execution_count": 16,
   "metadata": {},
   "outputs": [
    {
     "name": "stdout",
     "output_type": "stream",
     "text": [
      "{1}\n"
     ]
    }
   ],
   "source": [
    "s = set()\n",
    "s.add(1)\n",
    "s.add(1)\n",
    "print(s)"
   ]
  },
  {
   "cell_type": "markdown",
   "metadata": {
    "slideshow": {
     "slide_type": "subslide"
    }
   },
   "source": [
    "We can turn any iterable into a set by passing it to the constructor of the `set` class. This allows us to check, e.g. whether multiple lists contain the same elements (irrespective of ordering and not accounting for multiple occurrences of elements). Let us try this in the example of the three lists created above:"
   ]
  },
  {
   "cell_type": "code",
   "execution_count": 17,
   "metadata": {},
   "outputs": [
    {
     "name": "stdout",
     "output_type": "stream",
     "text": [
      "True\n",
      "True\n"
     ]
    }
   ],
   "source": [
    "print(set(a)==set(b))\n",
    "print(set(b)==set(c))"
   ]
  },
  {
   "cell_type": "markdown",
   "metadata": {
    "slideshow": {
     "slide_type": "subslide"
    }
   },
   "source": [
    "Finally, python comes with a class to store a  `tuple` of elements. Just like lists, tuples are ordered collections where the same element can occur multiple times. But different from lists, python tuples are immutable, i.e. once they are created we cannot change them. We can create a tuple by using the round bracket notation `(elem1, elem2, elem3)`."
   ]
  },
  {
   "cell_type": "code",
   "execution_count": 18,
   "metadata": {},
   "outputs": [
    {
     "name": "stdout",
     "output_type": "stream",
     "text": [
      "(1, 2, 3, 4, 4)\n"
     ]
    }
   ],
   "source": [
    "t = (1, 2, 3, 4, 4)\n",
    "print(t)"
   ]
  },
  {
   "cell_type": "markdown",
   "metadata": {},
   "source": [
    "Trying to change a tuple will yield an error:"
   ]
  },
  {
   "cell_type": "code",
   "execution_count": 19,
   "metadata": {},
   "outputs": [
    {
     "ename": "TypeError",
     "evalue": "'tuple' object does not support item assignment",
     "output_type": "error",
     "traceback": [
      "\u001b[1;31m---------------------------------------------------------------------------\u001b[0m",
      "\u001b[1;31mTypeError\u001b[0m                                 Traceback (most recent call last)",
      "\u001b[1;32m<ipython-input-19-5255d5d095a8>\u001b[0m in \u001b[0;36m<module>\u001b[1;34m\u001b[0m\n\u001b[1;32m----> 1\u001b[1;33m \u001b[0mt\u001b[0m\u001b[1;33m[\u001b[0m\u001b[1;36m2\u001b[0m\u001b[1;33m]\u001b[0m \u001b[1;33m=\u001b[0m \u001b[1;36m5\u001b[0m\u001b[1;33m\u001b[0m\u001b[1;33m\u001b[0m\u001b[0m\n\u001b[0m",
      "\u001b[1;31mTypeError\u001b[0m: 'tuple' object does not support item assignment"
     ]
    }
   ],
   "source": [
    "t[2] = 5"
   ]
  },
  {
   "cell_type": "markdown",
   "metadata": {},
   "source": [
    "Considering that they are more restricted than lists, why should we use tuples then in the first place? Apart from the fact that we sometimes specifically want our data to be immutable, a simple reason is that tuples are much faster than lists. \n",
    "\n",
    "We can test this by using a great feature of `jupyter`, so-called `cell magic`. We can annotate code to be executed by the kernel using special commands that are prefixed by `%`. In general, this works in two modes: If we prefix a line by `%command` that command applies to a single line of code. If we prefix a cell by `%%command`, the command applies to all code in this cell. \n",
    "\n",
    "There are numerous powerful magic commands and we refer you to the [documentation](https://ipython.readthedocs.io/en/stable/interactive/magics.html) for a complete list. One interesting thing that we can do is to profile the execution of a cell by repeatedly executing code and reporting the average execution time. We can use the argument `-n` to indicate how often the statements should be executed. The reported times are averages over multiple repetitions (controlled by the parameter `-r`) of this experiment. This simple approach allows us to quickly get an idea about the performance of `python` code snippets. Let us compare the time needed to create an integer, a tuple and a list:"
   ]
  },
  {
   "cell_type": "code",
   "execution_count": 20,
   "metadata": {},
   "outputs": [
    {
     "name": "stdout",
     "output_type": "stream",
     "text": [
      "13.6 ns ± 2.17 ns per loop (mean ± std. dev. of 10 runs, 10000000 loops each)\n"
     ]
    }
   ],
   "source": [
    "%%timeit -n 10000000 -r 10\n",
    "\n",
    "t = 1"
   ]
  },
  {
   "cell_type": "code",
   "execution_count": 21,
   "metadata": {},
   "outputs": [
    {
     "name": "stdout",
     "output_type": "stream",
     "text": [
      "12.8 ns ± 0.328 ns per loop (mean ± std. dev. of 10 runs, 10000000 loops each)\n"
     ]
    }
   ],
   "source": [
    "%%timeit -n 10000000 -r 10\n",
    "\n",
    "t = (1, 2, 3, 4, 4)"
   ]
  },
  {
   "cell_type": "code",
   "execution_count": 22,
   "metadata": {},
   "outputs": [
    {
     "name": "stdout",
     "output_type": "stream",
     "text": [
      "92.5 ns ± 18.2 ns per loop (mean ± std. dev. of 10 runs, 10000000 loops each)\n"
     ]
    }
   ],
   "source": [
    "%%timeit -n 10000000 -r 10\n",
    "\n",
    "t = [1, 2, 3, 4, 4]"
   ]
  },
  {
   "cell_type": "markdown",
   "metadata": {},
   "source": [
    "Creating a list takes more about four times longer than creating a tuple. Moreover the time needed to create a tuple of integers is about the same time than the time needed to create a simple integer variable.\n",
    "\n",
    "Above, we mentioned that the `in` operator in a set is or dictionary is O(1) while it is O(n) in a list (due to the fact that an element can occur multiple times, which prevents hashing). Let us use the `timeit` cell magic to test this:"
   ]
  },
  {
   "cell_type": "code",
   "execution_count": 3,
   "metadata": {},
   "outputs": [],
   "source": [
    "x = list(range(10000))\n",
    "y = set(x)\n",
    "z =  { k:k for k in x }\n",
    "\n",
    "import random"
   ]
  },
  {
   "cell_type": "code",
   "execution_count": 4,
   "metadata": {},
   "outputs": [
    {
     "name": "stdout",
     "output_type": "stream",
     "text": [
      "58.3 µs ± 1.11 µs per loop (mean ± std. dev. of 10 runs, 10000 loops each)\n"
     ]
    }
   ],
   "source": [
    "%%timeit -n 10000 -r 10\n",
    "test = random.choice(x) in x"
   ]
  },
  {
   "cell_type": "code",
   "execution_count": 5,
   "metadata": {},
   "outputs": [
    {
     "name": "stdout",
     "output_type": "stream",
     "text": [
      "755 ns ± 249 ns per loop (mean ± std. dev. of 10 runs, 10000 loops each)\n"
     ]
    }
   ],
   "source": [
    "%%timeit -n 10000 -r 10\n",
    "test = random.choice(x) in y"
   ]
  },
  {
   "cell_type": "code",
   "execution_count": 6,
   "metadata": {},
   "outputs": [
    {
     "name": "stdout",
     "output_type": "stream",
     "text": [
      "667 ns ± 132 ns per loop (mean ± std. dev. of 10 runs, 10000 loops each)\n"
     ]
    }
   ],
   "source": [
    "%%timeit -n 10000 -r 10\n",
    "test = random.choice(x) in z"
   ]
  },
  {
   "cell_type": "markdown",
   "metadata": {},
   "source": [
    "## High-performance containers\n",
    "\n",
    "Speaking of performance of collection types, we conclude this notebook by introducing the [**high-performance containers**](https://docs.python.org/2/library/collections.html) provided in the standard `python` submodule `collections`. It is crucial if you want to process and analyse large data sets, and considering what we introduced above, it is easy to motivate why we need this. \n",
    "\n",
    "Something that you will come across frequently when analysing big data is the need to update or add to the values of a given key in the dictionary, e.g. when counting elements. Often, we don't know whether the key exists before, so using the standard `dic` class we actually have to check this first using an if statement. Consider, e.g., the following code snippet, which counts the frequencies of characters in a string:"
   ]
  },
  {
   "cell_type": "code",
   "execution_count": 32,
   "metadata": {},
   "outputs": [
    {
     "ename": "KeyError",
     "evalue": "'I'",
     "output_type": "error",
     "traceback": [
      "\u001b[1;31m---------------------------------------------------------------------------\u001b[0m",
      "\u001b[1;31mKeyError\u001b[0m                                  Traceback (most recent call last)",
      "\u001b[1;32m<ipython-input-32-5efed276f47d>\u001b[0m in \u001b[0;36m<module>\u001b[1;34m\u001b[0m\n\u001b[0;32m      3\u001b[0m \u001b[1;33m\u001b[0m\u001b[0m\n\u001b[0;32m      4\u001b[0m \u001b[1;32mfor\u001b[0m \u001b[0mc\u001b[0m \u001b[1;32min\u001b[0m \u001b[0mstring\u001b[0m\u001b[1;33m:\u001b[0m\u001b[1;33m\u001b[0m\u001b[1;33m\u001b[0m\u001b[0m\n\u001b[1;32m----> 5\u001b[1;33m     \u001b[0mcounts\u001b[0m\u001b[1;33m[\u001b[0m\u001b[0mc\u001b[0m\u001b[1;33m]\u001b[0m \u001b[1;33m+=\u001b[0m \u001b[1;36m1\u001b[0m\u001b[1;33m\u001b[0m\u001b[1;33m\u001b[0m\u001b[0m\n\u001b[0m\u001b[0;32m      6\u001b[0m \u001b[0mprint\u001b[0m\u001b[1;33m(\u001b[0m\u001b[0mcounts\u001b[0m\u001b[1;33m)\u001b[0m\u001b[1;33m\u001b[0m\u001b[1;33m\u001b[0m\u001b[0m\n",
      "\u001b[1;31mKeyError\u001b[0m: 'I'"
     ]
    }
   ],
   "source": [
    "string = 'Introduction to Data Science'\n",
    "counts = {}\n",
    "\n",
    "for c in string:\n",
    "    counts[c] += 1\n",
    "print(counts)"
   ]
  },
  {
   "cell_type": "markdown",
   "metadata": {},
   "source": [
    "Clearly, we have to initialise the dictionary value of each key with zero whenever we first encounter a character, i.e. we need to write the following code:"
   ]
  },
  {
   "cell_type": "code",
   "execution_count": 33,
   "metadata": {},
   "outputs": [
    {
     "name": "stdout",
     "output_type": "stream",
     "text": [
      "{'I': 1, 'n': 3, 't': 4, 'r': 1, 'o': 3, 'd': 1, 'u': 1, 'c': 3, 'i': 2, ' ': 3, 'D': 1, 'a': 2, 'S': 1, 'e': 2}\n"
     ]
    }
   ],
   "source": [
    "string = 'Introduction to Data Science'\n",
    "counts_dict = {}\n",
    "\n",
    "for c in string:\n",
    "    if c not in counts_dict:\n",
    "        counts_dict[c] = 0\n",
    "    counts_dict[c] += 1\n",
    "print(counts_dict)"
   ]
  },
  {
   "cell_type": "markdown",
   "metadata": {},
   "source": [
    "That not only makes the code more difficult to read (especially if you are working with multiple, possibly nested dictionaries) it also introduces a lot of overhead due to numerous unneccessary checks whether the key is in the dictionary or not. A smarter way would be to have a dictionary class that uses a given default value to initialise non-existing values. \n",
    "\n",
    "The `defaultdict` class in the collections module does exactly this. We can initialise it by passing a lambda expression that specifies what to do when a non-existing value is encountered. In the simplest case, this lambda expression can just be the initival value. In other cases, we could give an expression that calls a function or calls a constructor of an object."
   ]
  },
  {
   "cell_type": "code",
   "execution_count": 34,
   "metadata": {},
   "outputs": [
    {
     "name": "stdout",
     "output_type": "stream",
     "text": [
      "defaultdict(<function <lambda> at 0x0000021EC8AEFB70>, {'I': 1, 'n': 3, 't': 4, 'r': 1, 'o': 3, 'd': 1, 'u': 1, 'c': 3, 'i': 2, ' ': 3, 'D': 1, 'a': 2, 'S': 1, 'e': 2})\n"
     ]
    }
   ],
   "source": [
    "from collections import defaultdict\n",
    "\n",
    "counts_defaultdict = defaultdict(lambda: 0)\n",
    "\n",
    "for c in string:\n",
    "    counts_defaultdict[c] += 1\n",
    "print(counts_defaultdict)"
   ]
  },
  {
   "cell_type": "markdown",
   "metadata": {},
   "source": [
    "In fact, for the special purpose of quickly counting frequencies the `collections` module introduces the special class [`Counter`](https://docs.python.org/2/library/collections.html#collections.Counter). We can create an instance of this class and just pass an iterable (e.g. a list, a set, or a string, which is an iterable of characters) as argument:"
   ]
  },
  {
   "cell_type": "code",
   "execution_count": 37,
   "metadata": {},
   "outputs": [
    {
     "name": "stdout",
     "output_type": "stream",
     "text": [
      "Counter({'t': 4, 'n': 3, 'o': 3, 'c': 3, ' ': 3, 'i': 2, 'a': 2, 'e': 2, 'I': 1, 'r': 1, 'd': 1, 'u': 1, 'D': 1, 'S': 1})\n"
     ]
    }
   ],
   "source": [
    "from collections import Counter\n",
    "\n",
    "counts = Counter(string)\n",
    "print(counts)"
   ]
  },
  {
   "cell_type": "markdown",
   "metadata": {},
   "source": [
    "This is eqivalent to writing the following code, i.e. the `Counter` class automatically interates over any iterable that we pass into the constructor and increments the counter of all unique values."
   ]
  },
  {
   "cell_type": "code",
   "execution_count": 38,
   "metadata": {},
   "outputs": [
    {
     "name": "stdout",
     "output_type": "stream",
     "text": [
      "Counter({'t': 4, 'n': 3, 'o': 3, 'c': 3, ' ': 3, 'i': 2, 'a': 2, 'e': 2, 'I': 1, 'r': 1, 'd': 1, 'u': 1, 'D': 1, 'S': 1})\n"
     ]
    }
   ],
   "source": [
    "counts_counter = Counter()\n",
    "for c in string:\n",
    "    counts_counter[c] += 1\n",
    "print(counts_counter)"
   ]
  },
  {
   "cell_type": "markdown",
   "metadata": {},
   "source": [
    "Let's see how much more efficient this is compared to our naive implementation based on the standard `dictionary` class. We use a longer string to test how the performance differs for larger iterables:"
   ]
  },
  {
   "cell_type": "code",
   "execution_count": 39,
   "metadata": {},
   "outputs": [
    {
     "name": "stdout",
     "output_type": "stream",
     "text": [
      "83.1 µs ± 16 µs per loop (mean ± std. dev. of 10 runs, 10000 loops each)\n"
     ]
    }
   ],
   "source": [
    "%%timeit -n 10000 -r 10\n",
    "\n",
    "string = '''Introduction to Data Science Introduction to Data Science Introduction to Data Science Introduction to Data Science Introduction to Data Science Introduction to Data Science\n",
    "Introduction to Data Science Introduction to Data Science Introduction to Data Science Introduction to Data Science Introduction to Data Science Introduction to Data Science\n",
    "Introduction to Data Science Introduction to Data Science Introduction to Data Science Introduction to Data Science Introduction to Data Science Introduction to Data Science\n",
    "Introduction to Data Science Introduction to Data Science Introduction to Data Science Introduction to Data Science Introduction to Data Science Introduction to Data Science\n",
    "Introduction to Data Science Introduction to Data Science Introduction to Data Science Introduction to Data Science Introduction to Data Science Introduction to Data Science\n",
    "'''\n",
    "\n",
    "counts_dict = {}\n",
    "for c in string:\n",
    "    if c not in counts_dict:\n",
    "        counts_dict[c] = 0\n",
    "    counts_dict[c] += 1"
   ]
  },
  {
   "cell_type": "code",
   "execution_count": 40,
   "metadata": {},
   "outputs": [
    {
     "name": "stdout",
     "output_type": "stream",
     "text": [
      "4.5 µs ± 853 ns per loop (mean ± std. dev. of 10 runs, 10000 loops each)\n"
     ]
    }
   ],
   "source": [
    "%%timeit -n 10000 -r 10\n",
    "counts_counter = Counter(string)"
   ]
  },
  {
   "cell_type": "markdown",
   "metadata": {},
   "source": [
    "That is a huge difference by a factor of 20. In fact, the difference will become even more pronounced if we consider even bigger data, because we are saving the test whether an element is already in the dictionary for each tested element! Comparing this to the implementation based on the default dictionary shows that there is no significant difference in terms of performance:"
   ]
  },
  {
   "cell_type": "code",
   "execution_count": 41,
   "metadata": {},
   "outputs": [
    {
     "name": "stdout",
     "output_type": "stream",
     "text": [
      "4.31 µs ± 486 ns per loop (mean ± std. dev. of 10 runs, 10000 loops each)\n"
     ]
    }
   ],
   "source": [
    "%%timeit -n 10000 -r 10\n",
    "counts_defaultdict = defaultdict(lambda: 0)\n",
    "\n",
    "for c in string:\n",
    "    counts_defaultdict[c] += 1"
   ]
  },
  {
   "cell_type": "markdown",
   "metadata": {},
   "source": [
    "However, there is an important difference in terms of how those two classes treat missing data. In the default dictionary, every read access to a key that has not been observed will actually create a new zero value for that key."
   ]
  },
  {
   "cell_type": "code",
   "execution_count": 43,
   "metadata": {},
   "outputs": [
    {
     "name": "stdout",
     "output_type": "stream",
     "text": [
      "0\n",
      "defaultdict(<function <lambda> at 0x0000021EC8AEFB70>, {'I': 1, 'n': 3, 't': 4, 'r': 1, 'o': 3, 'd': 1, 'u': 1, 'c': 3, 'i': 2, ' ': 3, 'D': 1, 'a': 2, 'S': 1, 'e': 2, 'z': 0})\n"
     ]
    }
   ],
   "source": [
    "print(counts_defaultdict['z'])\n",
    "print(counts_defaultdict)"
   ]
  },
  {
   "cell_type": "markdown",
   "metadata": {},
   "source": [
    "This can cause problems if you perform many such tests for a large number of elements, which will let your default dictionary explore with zero values. Also, the number of keys in the default dictionary will grow just through the test whether elements are contained or not.\n",
    "\n",
    "The counter class has a different behavior. Here, no zero values will be created if we ask for the count of an element that hasn't been observed."
   ]
  },
  {
   "cell_type": "code",
   "execution_count": 44,
   "metadata": {},
   "outputs": [
    {
     "name": "stdout",
     "output_type": "stream",
     "text": [
      "0\n",
      "Counter({'t': 4, 'n': 3, 'o': 3, 'c': 3, ' ': 3, 'i': 2, 'a': 2, 'e': 2, 'I': 1, 'r': 1, 'd': 1, 'u': 1, 'D': 1, 'S': 1})\n"
     ]
    }
   ],
   "source": [
    "print(counts_counter['z'])\n",
    "print(counts_counter)"
   ]
  },
  {
   "cell_type": "markdown",
   "metadata": {},
   "source": [
    "Nevertheless, the counter class wil just return the default value of zero for elements that are not in the underlying dictionary. Note that this leass to the - for a dictionary - unintuitive behavior that you can get a (zero) value for keys that are actually not in the dictionary."
   ]
  },
  {
   "cell_type": "code",
   "execution_count": 40,
   "metadata": {},
   "outputs": [],
   "source": [
    "print(counts_counter['z'])"
   ]
  },
  {
   "cell_type": "markdown",
   "metadata": {},
   "source": [
    "Finally, the counter class comes with additional functions that are useful in the collection of data for statistical analyses. We can easily check which are the $n$ most common elements:"
   ]
  },
  {
   "cell_type": "code",
   "execution_count": 45,
   "metadata": {},
   "outputs": [
    {
     "data": {
      "text/plain": [
       "[('t', 4), ('n', 3), ('o', 3), ('c', 3), (' ', 3)]"
      ]
     },
     "execution_count": 45,
     "metadata": {},
     "output_type": "execute_result"
    }
   ],
   "source": [
    "counts_counter.most_common(5)"
   ]
  },
  {
   "cell_type": "markdown",
   "metadata": {},
   "source": [
    "Moreover, we can easily add or subtract multiple counters:"
   ]
  },
  {
   "cell_type": "code",
   "execution_count": 41,
   "metadata": {},
   "outputs": [],
   "source": [
    "counts_2 = Counter('This is another counter')\n",
    "print(counts_2)\n",
    "\n",
    "print(counts_counter+counts_2)\n",
    "print(counts_counter-counts_2)"
   ]
  }
 ],
 "metadata": {
  "file_extension": ".py",
  "kernelspec": {
   "display_name": "Python 3",
   "language": "python",
   "name": "python3"
  },
  "language_info": {
   "codemirror_mode": {
    "name": "ipython",
    "version": 3
   },
   "file_extension": ".py",
   "mimetype": "text/x-python",
   "name": "python",
   "nbconvert_exporter": "python",
   "pygments_lexer": "ipython3",
   "version": "3.8.2"
  },
  "mimetype": "text/x-python",
  "name": "python",
  "npconvert_exporter": "python",
  "pygments_lexer": "ipython3",
  "toc": {
   "base_numbering": 1,
   "nav_menu": {},
   "number_sections": true,
   "sideBar": true,
   "skip_h1_title": false,
   "title_cell": "Table of Contents",
   "title_sidebar": "Contents",
   "toc_cell": false,
   "toc_position": {},
   "toc_section_display": true,
   "toc_window_display": false
  },
  "version": 3
 },
 "nbformat": 4,
 "nbformat_minor": 2
}
