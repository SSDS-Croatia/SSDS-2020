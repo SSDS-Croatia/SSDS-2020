{
 "cells": [
  {
   "cell_type": "markdown",
   "metadata": {},
   "source": [
    "# Introducing `numpy`\n",
    "\n",
    "**September 08 2020**  \n",
    "*Vincenzo Perri*\n",
    "\n",
    "This notebook introduces the numerical package `numpy`, which allows us to peform mathematical operations on vectors and matrices."
   ]
  },
  {
   "cell_type": "markdown",
   "metadata": {},
   "source": [
    "## `numpy` arrays\n",
    "\n",
    "One of the reasons why `python` has become one of the most popular language for data science and scientific computing is the package `numpy`, which provides classes and functions to perform advanced mathematical and statistical analyses. One of the key features is its support for vector and matrix algebra that is built on the concept of `numpy` arrays. \n",
    "\n",
    "Let us first understand how the standard `list` class in python differs from a `numpy` array. Consider the following example of two lists containing numerical values. If we perform an addition operation on those two lists we get:"
   ]
  },
  {
   "cell_type": "code",
   "execution_count": 7,
   "metadata": {},
   "outputs": [
    {
     "data": {
      "text/plain": [
       "[0, 1, 0, 1, 0, 1, 2, 1]"
      ]
     },
     "execution_count": 7,
     "metadata": {},
     "output_type": "execute_result"
    }
   ],
   "source": [
    "python_arr_1 = [0,1,0,1]\n",
    "python_arr_2 = [0,1,2,1]\n",
    "\n",
    "python_arr_1 + python_arr_2"
   ]
  },
  {
   "cell_type": "markdown",
   "metadata": {},
   "source": [
    "For `python` lists, the mathematical operators are overloaded in such a way, that they help us to create or merge lists, but there is no implementation of mathematical operations that would allow us to use them to perform vector, or matrix-based operations. For instance, if we multiply a list with a scalar value, we get:\n"
   ]
  },
  {
   "cell_type": "code",
   "execution_count": 8,
   "metadata": {},
   "outputs": [
    {
     "data": {
      "text/plain": [
       "[0, 1, 2, 0, 1, 2, 0, 1, 2, 0, 1, 2, 0, 1, 2]"
      ]
     },
     "execution_count": 8,
     "metadata": {},
     "output_type": "execute_result"
    }
   ],
   "source": [
    "[0, 1, 2]*5"
   ]
  },
  {
   "cell_type": "markdown",
   "metadata": {},
   "source": [
    "A `numpy` array is fundamentally different from a `python` list in the sense that it represents a mathematical vector on which we can perform arithmetic operations. \n",
    "\n",
    "To use numpy arrays, we first have to import the package. We can then directly initialise them from a python list as follows:"
   ]
  },
  {
   "cell_type": "code",
   "execution_count": 9,
   "metadata": {},
   "outputs": [
    {
     "data": {
      "text/plain": [
       "array([0, 2, 2, 2])"
      ]
     },
     "execution_count": 9,
     "metadata": {},
     "output_type": "execute_result"
    }
   ],
   "source": [
    "import numpy as np\n",
    "\n",
    "np_arr_1 = np.array(python_arr_1)\n",
    "np_arr_2 = np.array(python_arr_2)\n",
    "\n",
    "np_arr_1 + np_arr_2"
   ]
  },
  {
   "cell_type": "markdown",
   "metadata": {},
   "source": [
    "If we pass a simple list, we get a one-dimensional vector whose number of dimensions matches the number of elements in the list. To change the structure or dimensionality of an numpy array we can use the function `reshape`. We can pass a list of integers, which specify the length of the array in multiple dimensions. A value of -1 means that the length of that dimension will be automatically determined based on the entries in the array that are remaining. In fact, it can become pretty complicated to understand the consequence of a `reshape` call, so let us make some examples:\n",
    "\n",
    "The array above is a one-dimensional array with 4 elements. We can turn this into a 2x2 array as follows:"
   ]
  },
  {
   "cell_type": "code",
   "execution_count": 10,
   "metadata": {},
   "outputs": [
    {
     "name": "stdout",
     "output_type": "stream",
     "text": [
      "[[0 1]\n",
      " [0 1]]\n"
     ]
    }
   ],
   "source": [
    "x = np_arr_1.reshape(2, 2)\n",
    "print(x)"
   ]
  },
  {
   "cell_type": "markdown",
   "metadata": {},
   "source": [
    "We can also change the one-dimensional to a two-dimensional array, where the first dimension contains 4 elements, each being an array with a single element. Rather than specifying a value of four for the first dimension, we can pass a value of -1, which automatically uses the number of all remaining values (in this case four) as an argument. The following call effectively transposes a row vector to a matrix that consists of a single column vector."
   ]
  },
  {
   "cell_type": "code",
   "execution_count": 11,
   "metadata": {},
   "outputs": [
    {
     "name": "stdout",
     "output_type": "stream",
     "text": [
      "[[0]\n",
      " [1]\n",
      " [0]\n",
      " [1]]\n"
     ]
    }
   ],
   "source": [
    "x = np_arr_1.reshape(-1, 1)\n",
    "print(x)"
   ]
  },
  {
   "cell_type": "markdown",
   "metadata": {},
   "source": [
    "If we want to reshape this column vector into a one-dimensional row vector, we can call:"
   ]
  },
  {
   "cell_type": "code",
   "execution_count": 12,
   "metadata": {},
   "outputs": [
    {
     "name": "stdout",
     "output_type": "stream",
     "text": [
      "[0 1 0 1]\n"
     ]
    }
   ],
   "source": [
    "x = x.reshape(-1)\n",
    "print(x)"
   ]
  },
  {
   "cell_type": "markdown",
   "metadata": {},
   "source": [
    "Instead of passing a one-dimensional list and then reshaping the resulting array, we can also initialise numpy arrays from nested lists. The dimensions of the resulting array will be automatically inferred from the lengths of the lists."
   ]
  },
  {
   "cell_type": "code",
   "execution_count": 13,
   "metadata": {},
   "outputs": [
    {
     "name": "stdout",
     "output_type": "stream",
     "text": [
      "[[1 0 1]\n",
      " [0 1 0]\n",
      " [0 0 1]]\n"
     ]
    }
   ],
   "source": [
    "matrix = np.array([[1,0,1], [0,1,0], [0,0,1]])\n",
    "print(matrix)"
   ]
  },
  {
   "cell_type": "markdown",
   "metadata": {},
   "source": [
    "if we are unsure about the shape of an array, we can look at the `shape` property, which returns a tuple that contains the number of elements in all dimensions:"
   ]
  },
  {
   "cell_type": "code",
   "execution_count": 14,
   "metadata": {},
   "outputs": [
    {
     "name": "stdout",
     "output_type": "stream",
     "text": [
      "(3, 3)\n"
     ]
    }
   ],
   "source": [
    "print(matrix.shape)"
   ]
  },
  {
   "cell_type": "markdown",
   "metadata": {},
   "source": [
    "Naturally, this works with arbitrary of nesting, i.e. the following initialisation generates 3x3x3 tensor, which we can visualise as a cube consisting of three layers of two-dimensional matrices."
   ]
  },
  {
   "cell_type": "code",
   "execution_count": 15,
   "metadata": {},
   "outputs": [
    {
     "name": "stdout",
     "output_type": "stream",
     "text": [
      "[[[0 1 0]\n",
      "  [1 0 1]\n",
      "  [1 1 1]]\n",
      "\n",
      " [[0 0 0]\n",
      "  [1 0 1]\n",
      "  [1 1 0]]\n",
      "\n",
      " [[1 0 0]\n",
      "  [0 0 0]\n",
      "  [1 1 1]]]\n",
      "(3, 3, 3)\n"
     ]
    }
   ],
   "source": [
    "tensor = np.array([[[0,1,0],[1,0,1],[1,1,1]], [[0,0,0],[1,0,1],[1,1,0]], [[1,0,0],[0,0,0],[1,1,1]]])\n",
    "print(tensor)\n",
    "print(tensor.shape)"
   ]
  },
  {
   "cell_type": "markdown",
   "metadata": {},
   "source": [
    "## Indexing and slicing `numpy` arrays"
   ]
  },
  {
   "cell_type": "markdown",
   "metadata": {},
   "source": [
    "An important `numpy` feature that you need to understand if you want to work with arrays is so-called **array slicing**, a special type of indexing, that we can use certain (subsets) of values in different dimensions. First, we can directly use standard python indexing to access elements in an numpy array. For instance, we can access the top-left element (zero) in the first matrix in the tensor above as follows:"
   ]
  },
  {
   "cell_type": "code",
   "execution_count": 16,
   "metadata": {},
   "outputs": [
    {
     "name": "stdout",
     "output_type": "stream",
     "text": [
      "0\n"
     ]
    }
   ],
   "source": [
    "print(tensor[0][0][0])"
   ]
  },
  {
   "cell_type": "markdown",
   "metadata": {},
   "source": [
    "Alternatively, we can also use a single bracket, separating indices in multiple dimensions through commas, i.e. if we want to access the bottom-right element in the third matrix, we could write:"
   ]
  },
  {
   "cell_type": "code",
   "execution_count": 17,
   "metadata": {},
   "outputs": [
    {
     "name": "stdout",
     "output_type": "stream",
     "text": [
      "1\n"
     ]
    }
   ],
   "source": [
    "print(tensor[2,2,2])"
   ]
  },
  {
   "cell_type": "markdown",
   "metadata": {},
   "source": [
    "We can use slicing to specify a sequence of indices that we seek to return using the notation `start:stop:step`, where `start` is the inclusive start index, `stop` is the exclusive stop index, and `step` is the increment. For example, we can use the following to retrieve five elements in the middle of a one-dimensional array with seven elements:"
   ]
  },
  {
   "cell_type": "code",
   "execution_count": 18,
   "metadata": {},
   "outputs": [
    {
     "name": "stdout",
     "output_type": "stream",
     "text": [
      "[2 3 4 5 6]\n"
     ]
    }
   ],
   "source": [
    "x = np.array([1,2,3,4,5,6,7])\n",
    "print(x[1:6:1])"
   ]
  },
  {
   "cell_type": "markdown",
   "metadata": {},
   "source": [
    "We can select every second element by changing the step:"
   ]
  },
  {
   "cell_type": "code",
   "execution_count": 19,
   "metadata": {},
   "outputs": [
    {
     "name": "stdout",
     "output_type": "stream",
     "text": [
      "[2 4 6]\n"
     ]
    }
   ],
   "source": [
    "print(x[1:6:2])"
   ]
  },
  {
   "cell_type": "markdown",
   "metadata": {},
   "source": [
    "If we omit the `step` parameter, a default step value of 1 is assumed, i.e. we can write:"
   ]
  },
  {
   "cell_type": "code",
   "execution_count": 20,
   "metadata": {},
   "outputs": [
    {
     "name": "stdout",
     "output_type": "stream",
     "text": [
      "[2 3 4 5 6]\n"
     ]
    }
   ],
   "source": [
    "print(x[1:6])"
   ]
  },
  {
   "cell_type": "markdown",
   "metadata": {},
   "source": [
    "if we additionally omit the `start` or `stop` index, they default to zero or the last index in the array respectively, i.e. we have:"
   ]
  },
  {
   "cell_type": "code",
   "execution_count": 21,
   "metadata": {},
   "outputs": [
    {
     "name": "stdout",
     "output_type": "stream",
     "text": [
      "[1 2 3 4 5 6]\n"
     ]
    }
   ],
   "source": [
    "print(x[:6])"
   ]
  },
  {
   "cell_type": "code",
   "execution_count": 22,
   "metadata": {},
   "outputs": [
    {
     "name": "stdout",
     "output_type": "stream",
     "text": [
      "[2 3 4 5 6 7]\n"
     ]
    }
   ],
   "source": [
    "print(x[1:])"
   ]
  },
  {
   "cell_type": "markdown",
   "metadata": {},
   "source": [
    "This implies that, if we omit the `start`, `stop` and `step` parameter alltogether and simply write a colon `:`, we retrieve all elements of the array:"
   ]
  },
  {
   "cell_type": "code",
   "execution_count": 23,
   "metadata": {},
   "outputs": [
    {
     "name": "stdout",
     "output_type": "stream",
     "text": [
      "[1 2 3 4 5 6 7]\n"
     ]
    }
   ],
   "source": [
    "print(x[:])"
   ]
  },
  {
   "cell_type": "markdown",
   "metadata": {},
   "source": [
    "In fact, slicing is a standard feature that is provided by `python`, so we can do the same in a `python` list:"
   ]
  },
  {
   "cell_type": "code",
   "execution_count": 24,
   "metadata": {},
   "outputs": [
    {
     "name": "stdout",
     "output_type": "stream",
     "text": [
      "[1, 2, 3, 4, 5, 6, 7]\n"
     ]
    }
   ],
   "source": [
    "y = [1,2,3,4,5,6,7]\n",
    "print(y[:])"
   ]
  },
  {
   "cell_type": "markdown",
   "metadata": {},
   "source": [
    "However, `numpy` takes this powerful concept one step further by generalsing it to arrays with arbitrary dimensions, where we can simply separate the slicing expression for individual dimensions by commas.\n",
    "\n",
    "Let's play with this in the matrix example from above. First, we can get the full matrix by using an empty slicing operator on both dimensions:"
   ]
  },
  {
   "cell_type": "code",
   "execution_count": 25,
   "metadata": {},
   "outputs": [
    {
     "name": "stdout",
     "output_type": "stream",
     "text": [
      "[[1 0 1]\n",
      " [0 1 0]\n",
      " [0 0 1]]\n"
     ]
    }
   ],
   "source": [
    "print(matrix[:,:])"
   ]
  },
  {
   "cell_type": "markdown",
   "metadata": {},
   "source": [
    "What if we want to extract the first row of the matrix, i.e. [1 0 1]. For the first dimension, we can pass the index 0, which selects the first row. For the second dimension, we specify an empty slice, which returns all values in the rows selected in the first dimension:"
   ]
  },
  {
   "cell_type": "code",
   "execution_count": 26,
   "metadata": {},
   "outputs": [
    {
     "name": "stdout",
     "output_type": "stream",
     "text": [
      "[1 0 1]\n"
     ]
    }
   ],
   "source": [
    "print(matrix[0,:])"
   ]
  },
  {
   "cell_type": "markdown",
   "metadata": {},
   "source": [
    "Clearly, this is just a complicated way to write:"
   ]
  },
  {
   "cell_type": "code",
   "execution_count": 27,
   "metadata": {},
   "outputs": [
    {
     "name": "stdout",
     "output_type": "stream",
     "text": [
      "[1 0 1]\n"
     ]
    }
   ],
   "source": [
    "print(matrix[0])"
   ]
  },
  {
   "cell_type": "markdown",
   "metadata": {},
   "source": [
    "However, using the slicing notation we can also efficiently extract elements that would otherwise require us to write a loop. For instance, we can get the first column vector in the matrix above by (i) specifying an empty slice in the first dimensions (this retrieves all rows) and (ii) specifying index zero for the second dimension, which selects the first element in each of the rows selected by the first dimension:"
   ]
  },
  {
   "cell_type": "code",
   "execution_count": 28,
   "metadata": {},
   "outputs": [
    {
     "name": "stdout",
     "output_type": "stream",
     "text": [
      "[1 0 0]\n"
     ]
    }
   ],
   "source": [
    "print(matrix[:,0])"
   ]
  },
  {
   "cell_type": "markdown",
   "metadata": {},
   "source": [
    "Finally, we can also do more complicated things, like, e.g. extracting the top left and bottom left 2x2 block matrices from the matrix above:"
   ]
  },
  {
   "cell_type": "code",
   "execution_count": 29,
   "metadata": {},
   "outputs": [
    {
     "name": "stdout",
     "output_type": "stream",
     "text": [
      "[[1 0]\n",
      " [0 1]]\n",
      "[[0 1]\n",
      " [0 0]]\n"
     ]
    }
   ],
   "source": [
    "print(matrix[:2,:2])\n",
    "print(matrix[1:,:2])"
   ]
  },
  {
   "cell_type": "markdown",
   "metadata": {},
   "source": [
    "Working with multi-dimensional arrays, slicing can turn into a brain twister and thus requires a bit of practice. But once you have mastered slicing in `numpy`, you will not want to miss it in the analysis of multi-variate data."
   ]
  },
  {
   "cell_type": "markdown",
   "metadata": {},
   "source": [
    "## Vector and matrix algebra\n",
    "\n",
    "Apart from storing multi-dimensional data, we can perform advanced algebraic operations like powers, matrix multiplications, or eigenvector calculations. In numpy, these operations are implemented in the module `linalg`. To compute the k-th power of the matrix above (i.e. we multiply the matrix k times with itself), we can use the `matrix_power` function:"
   ]
  },
  {
   "cell_type": "code",
   "execution_count": 30,
   "metadata": {},
   "outputs": [
    {
     "name": "stdout",
     "output_type": "stream",
     "text": [
      "[[1 0 2]\n",
      " [0 1 0]\n",
      " [0 0 1]]\n"
     ]
    }
   ],
   "source": [
    "print(np.linalg.matrix_power(matrix, 2))"
   ]
  },
  {
   "cell_type": "markdown",
   "metadata": {},
   "source": [
    "The (dot) product of two matrices (as well as a matrix with a vector) is implemented in the `dot` function, i.e. the following yields the same result like the `matrix_power` function:"
   ]
  },
  {
   "cell_type": "code",
   "execution_count": 31,
   "metadata": {},
   "outputs": [
    {
     "name": "stdout",
     "output_type": "stream",
     "text": [
      "[[1 0 2]\n",
      " [0 1 0]\n",
      " [0 0 1]]\n"
     ]
    }
   ],
   "source": [
    "print(matrix.dot(matrix))"
   ]
  },
  {
   "cell_type": "markdown",
   "metadata": {},
   "source": [
    "If you recall the definition of matrix multiplication (i.e. the dot product), you will remember that the product A*B is only defined if the number of **columns** in A equals the number of **rows** in B. The resulting product will then have the same number of rows as A and the same number of columns as B. Let us try this in `numpy`:"
   ]
  },
  {
   "cell_type": "code",
   "execution_count": 32,
   "metadata": {},
   "outputs": [],
   "source": [
    "v = np.array([2,3,1])\n",
    "M = np.array([[1,2,3], [2,4,2], [1,1,0]])"
   ]
  },
  {
   "cell_type": "markdown",
   "metadata": {},
   "source": [
    "Let us consider `v` as a row vector (i.e. we have three columns and one row). `M` is a 3x3 matrix, i.e. the number of columns in `v` matches the number of rows in M and the result is again a row vector with three columns."
   ]
  },
  {
   "cell_type": "code",
   "execution_count": 33,
   "metadata": {},
   "outputs": [
    {
     "name": "stdout",
     "output_type": "stream",
     "text": [
      "[ 9 17 12]\n"
     ]
    }
   ],
   "source": [
    "print(v.dot(M))"
   ]
  },
  {
   "cell_type": "markdown",
   "metadata": {},
   "source": [
    "If we change the order of the multiplication, the result should not be defined. Let us try this:"
   ]
  },
  {
   "cell_type": "code",
   "execution_count": 34,
   "metadata": {},
   "outputs": [
    {
     "name": "stdout",
     "output_type": "stream",
     "text": [
      "[11 18  5]\n"
     ]
    }
   ],
   "source": [
    "print(M.dot(v))"
   ]
  },
  {
   "cell_type": "markdown",
   "metadata": {},
   "source": [
    "That's a surprise! The reason for this `numpy` actually does not distinguish between a row and a column vector. That is, in this case it has interpreted `v` as a column vector, and the result is a (different) vector with three rows and a single column. If we explicitly reshape the vector as described above, we get the same result, but the result vector will now be in the same shape as `v`:"
   ]
  },
  {
   "cell_type": "code",
   "execution_count": 35,
   "metadata": {},
   "outputs": [
    {
     "name": "stdout",
     "output_type": "stream",
     "text": [
      "[[11]\n",
      " [18]\n",
      " [ 5]]\n"
     ]
    }
   ],
   "source": [
    "print(M.dot(v.reshape(-1, 1)))"
   ]
  },
  {
   "cell_type": "markdown",
   "metadata": {},
   "source": [
    "A number of important methods in data analytics are based on the calculation of eigenvector and eigenvalues, i.e. for a given matrix A we are interested in solutions to the eigenvalue equation $\\mathbf{A} v = \\lambda v$, where $v$ is called an eigenvector and $\\lambda$ is called an eigenvalue of $\\mathbf{A}$.\n",
    "\n",
    "A prominent example of an eigenvector based method is the PageRank value of a web page, which is one factor used by Google to rank search results. This is actually the eigenvalue of a matrix that encodes the hyperlink structure of web pages, i.e. entries in the matrix capture which web pages refer to each other.\n",
    "\n",
    "To calculate eigenvalues and eigenvectors, we can use the function `eig` in the module `linalg`:"
   ]
  },
  {
   "cell_type": "code",
   "execution_count": 36,
   "metadata": {},
   "outputs": [
    {
     "data": {
      "text/plain": [
       "(array([ 5.74872177, -1.2886655 ,  0.53994373]),\n",
       " array([[-0.49838336, -0.82177082,  0.75029071],\n",
       "        [-0.83533743,  0.09852589, -0.59738112],\n",
       "        [-0.23200302,  0.56123558,  0.28319543]]))"
      ]
     },
     "execution_count": 36,
     "metadata": {},
     "output_type": "execute_result"
    }
   ],
   "source": [
    "np.linalg.eig(M)"
   ]
  },
  {
   "cell_type": "markdown",
   "metadata": {},
   "source": [
    "You see that in the example above the output of the function consists of two arrays, that contain all of the eigenvectors and the eigenvalues of the matrix. It is important to highlight that those are the **right** eigenvalues or eigenvectors, i.e. these are the solutions of the equation $Av = \\lambda v$ where the vector $v$ is multiplied from the right.\n",
    "\n",
    "An easier way to access the eigenvalues and eigenvectors is to unpack the tuple-valued return value into two numpy arrays as follows:"
   ]
  },
  {
   "cell_type": "code",
   "execution_count": 37,
   "metadata": {},
   "outputs": [
    {
     "name": "stdout",
     "output_type": "stream",
     "text": [
      "[ 5.74872177 -1.2886655   0.53994373]\n",
      "[[-0.49838336 -0.82177082  0.75029071]\n",
      " [-0.83533743  0.09852589 -0.59738112]\n",
      " [-0.23200302  0.56123558  0.28319543]]\n"
     ]
    }
   ],
   "source": [
    "w, v = np.linalg.eig(M)\n",
    "print(w)\n",
    "print(v)"
   ]
  },
  {
   "cell_type": "markdown",
   "metadata": {},
   "source": [
    "The numpy array w contains the three eigenvalues of matrix M and the two-dimensional numpy array w contains the three eigenvectors. It is important to know that the eigenvectors are returned such that the first component in each of the three inner arrays contained in w gives the first eigenvector, while the second component gives the second, and so on. That is, we can use the following numpy slicing to access the i-th eigenvector:"
   ]
  },
  {
   "cell_type": "code",
   "execution_count": 38,
   "metadata": {},
   "outputs": [
    {
     "data": {
      "text/plain": [
       "array([-0.49838336, -0.83533743, -0.23200302])"
      ]
     },
     "execution_count": 38,
     "metadata": {},
     "output_type": "execute_result"
    }
   ],
   "source": [
    "i = 0\n",
    "v[:,i]"
   ]
  },
  {
   "cell_type": "markdown",
   "metadata": {},
   "source": [
    "We can easily confirm whether `v[:,i]` and `w[i]` are indeed the i-th eigenvector and an eigenvalue of M. Using the eigenvalue equation above, both sides must be equal and we find:"
   ]
  },
  {
   "cell_type": "code",
   "execution_count": 39,
   "metadata": {},
   "outputs": [
    {
     "name": "stdout",
     "output_type": "stream",
     "text": [
      "[-2.86506728 -4.80212248 -1.33372079]\n",
      "[-2.86506728 -4.80212248 -1.33372079]\n",
      "\n",
      "[ 1.0589877  -0.12696692 -0.72324493]\n",
      "[ 1.0589877  -0.12696692 -0.72324493]\n",
      "\n",
      "[ 0.40511476 -0.32255219  0.15290959]\n",
      "[ 0.40511476 -0.32255219  0.15290959]\n",
      "\n"
     ]
    }
   ],
   "source": [
    "for i in range(3):\n",
    "    print(np.dot(M, v[:,i]))\n",
    "    print(np.dot(w[i], v[:,i]))\n",
    "    print()"
   ]
  },
  {
   "cell_type": "markdown",
   "metadata": {},
   "source": [
    "Looking at the i-th eigenvector above, it is easy to confirm visually that the multiplication with M has simply scaled the eigenvectors by a factor that corresponds to their associated eigenvalues."
   ]
  }
 ],
 "metadata": {
  "file_extension": ".py",
  "kernelspec": {
   "display_name": "Python 3",
   "language": "python",
   "name": "python3"
  },
  "language_info": {
   "codemirror_mode": {
    "name": "ipython",
    "version": 3
   },
   "file_extension": ".py",
   "mimetype": "text/x-python",
   "name": "python",
   "nbconvert_exporter": "python",
   "pygments_lexer": "ipython3",
   "version": "3.8.2"
  },
  "mimetype": "text/x-python",
  "name": "python",
  "npconvert_exporter": "python",
  "pygments_lexer": "ipython3",
  "toc": {
   "base_numbering": 1,
   "nav_menu": {},
   "number_sections": true,
   "sideBar": true,
   "skip_h1_title": false,
   "title_cell": "Table of Contents",
   "title_sidebar": "Contents",
   "toc_cell": false,
   "toc_position": {},
   "toc_section_display": true,
   "toc_window_display": false
  },
  "version": 3
 },
 "nbformat": 4,
 "nbformat_minor": 2
}
