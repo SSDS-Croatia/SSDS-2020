{
 "cells": [
  {
   "cell_type": "code",
   "execution_count": null,
   "metadata": {},
   "outputs": [],
   "source": [
    "%load_ext autoreload\n",
    "%autoreload 2\n",
    "import numpy as np\n",
    "from collections import defaultdict\n",
    "import sys\n",
    "sys.path.append('../src/')\n",
    "from stream import Stream\n",
    "from oPENminer import oPENminer\n",
    "from plotter import Plotter\n",
    "from output_reader import OutputReader"
   ]
  },
  {
   "cell_type": "code",
   "execution_count": null,
   "metadata": {},
   "outputs": [],
   "source": [
    "'''\n",
    "A wrapper around Matplotlib with some basic functionality that we'll need\n",
    "'''\n",
    "plotter = Plotter()"
   ]
  },
  {
   "cell_type": "code",
   "execution_count": null,
   "metadata": {},
   "outputs": [],
   "source": [
    "stream_name = 'columbus_bike'\n",
    "stream = Stream('columbus_bike')\n",
    "method = oPENminer(stream,\n",
    "                   window_size=1,\n",
    "                   max_size=1,\n",
    "                   view='id',\n",
    "                   alpha=2.0,\n",
    "                   beta=0.5,\n",
    "                   gamma=3.0,\n",
    "                   save_output=True,\n",
    "                   save_occs=False)"
   ]
  },
  {
   "cell_type": "code",
   "execution_count": null,
   "metadata": {},
   "outputs": [],
   "source": [
    "method.mine()"
   ]
  },
  {
   "cell_type": "code",
   "execution_count": null,
   "metadata": {},
   "outputs": [],
   "source": [
    "output_reader = OutputReader(stream_name, \n",
    "                             offline_online='offline', \n",
    "                             window_size=method.window_size, \n",
    "                             max_size=method.max_size, \n",
    "                             view=method.view,\n",
    "                             alpha=method.alpha,\n",
    "                             beta=method.beta, \n",
    "                             gamma=method.gamma,\n",
    "                             save_occs=False)"
   ]
  },
  {
   "cell_type": "code",
   "execution_count": null,
   "metadata": {},
   "outputs": [],
   "source": [
    "P_scores = list()\n",
    "F_scores = list()\n",
    "colors = list()\n",
    "for pattern in output_reader.patterns:\n",
    "    P = output_reader.P(pattern)\n",
    "    F = output_reader.F(pattern)\n",
    "    P_scores.append(P)\n",
    "    F_scores.append(F)\n",
    "    if P > 10.5:\n",
    "        colors.append('black')\n",
    "    elif P < 1.0 and 500 < F:\n",
    "        colors.append('coral')\n",
    "    elif 7.8 < P < 8.1 and 210 < F < 300:\n",
    "        colors.append('#377eb8')\n",
    "    else:\n",
    "        colors.append((0.5019607843137255, 0.5019607843137255, 0.5019607843137255, 0.2))"
   ]
  },
  {
   "cell_type": "code",
   "execution_count": null,
   "metadata": {},
   "outputs": [],
   "source": [
    "view = 'id'\n",
    "plotter.x_vs_y(x=P_scores, \n",
    "               y=F_scores,\n",
    "               title='Columbus Bike',\n",
    "               yscale='symlog',\n",
    "               xlabel='Persistence',\n",
    "               ylabel='Frequency',\n",
    "               dpi=250,\n",
    "               size=350,\n",
    "               colors=colors,\n",
    "               transparent=True)"
   ]
  },
  {
   "cell_type": "code",
   "execution_count": null,
   "metadata": {},
   "outputs": [],
   "source": [
    "# stream = Stream('stackoverflow')\n",
    "# method = oPENminer(stream,\n",
    "#                    window_size=3600,\n",
    "#                    max_size=3,\n",
    "#                    view='id',\n",
    "#                    alpha=1.0,\n",
    "#                    beta=0.5,\n",
    "#                    gamma=2.0,\n",
    "#                    save_output=True,\n",
    "#                    save_occs=False)"
   ]
  },
  {
   "cell_type": "code",
   "execution_count": null,
   "metadata": {},
   "outputs": [],
   "source": [
    "# method.mine()"
   ]
  },
  {
   "cell_type": "code",
   "execution_count": null,
   "metadata": {},
   "outputs": [],
   "source": []
  }
 ],
 "metadata": {
  "kernelspec": {
   "display_name": "Python 3",
   "language": "python",
   "name": "python3"
  },
  "language_info": {
   "codemirror_mode": {
    "name": "ipython",
    "version": 3
   },
   "file_extension": ".py",
   "mimetype": "text/x-python",
   "name": "python",
   "nbconvert_exporter": "python",
   "pygments_lexer": "ipython3",
   "version": "3.7.4"
  }
 },
 "nbformat": 4,
 "nbformat_minor": 2
}
