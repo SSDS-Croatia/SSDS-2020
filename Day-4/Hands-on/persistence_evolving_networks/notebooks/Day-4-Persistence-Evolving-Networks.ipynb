{
 "cells": [
  {
   "cell_type": "markdown",
   "metadata": {},
   "source": [
    "# Pattern and Anomaly Mining in Large-scale, Evolving Graphs\n",
    "\n",
    "This tutorial explores pattern mining in evolving graphs (networks), with a focus on anomaly detection. We will explore different statistics that can be computed on patterns, such as frequency and persistence, and their relationships. "
   ]
  },
  {
   "cell_type": "code",
   "execution_count": null,
   "metadata": {},
   "outputs": [],
   "source": [
    "%load_ext autoreload\n",
    "%autoreload 2\n",
    "import numpy as np\n",
    "from collections import defaultdict\n",
    "import sys\n",
    "import random\n",
    "from sklearn.neighbors import KDTree\n",
    "sys.path.append('../src/')\n",
    "'''\n",
    "Below this are imports of custom code for this tutorial.\n",
    "'''\n",
    "from stream import Stream\n",
    "from oPENminer import oPENminer\n",
    "from plotter import Plotter\n",
    "from output_reader import OutputReader"
   ]
  },
  {
   "cell_type": "markdown",
   "metadata": {},
   "source": [
    "We built a wrapper around Matplotlib with some basic functionality for specific plots that we'll need.\n",
    "See `src/plotter.py` if you are interested."
   ]
  },
  {
   "cell_type": "code",
   "execution_count": null,
   "metadata": {},
   "outputs": [],
   "source": [
    "plotter = Plotter()"
   ]
  },
  {
   "cell_type": "markdown",
   "metadata": {},
   "source": [
    "### Transportation Networks\n",
    "\n",
    "We'll start with transportation networks. These can encode many different types of information, but we will focus on traffic, as this evolves rapidly. Thus an edge (u, v) in a network means that a vehicle is currently traveling from some location u to some other location v. \n",
    "\n",
    "Our first network will be a network of bike share traffic in Columbus, OH. Each node is a bike station from which people can rent bikes.\n",
    "\n",
    "Since once a bike trip is complete the rider leaves the bike, sequences of edges are not linked.\n",
    "Thus, we set the maximum snippet size to, so that each activity snippet corresponds to a single bike trip."
   ]
  },
  {
   "cell_type": "code",
   "execution_count": null,
   "metadata": {},
   "outputs": [],
   "source": [
    "stream_name = 'columbus_bike'\n",
    "# a class to feed edge-updates to PENminer\n",
    "stream = Stream('columbus_bike')\n",
    "# PENminer (the 'o' at the beginning is for offline analysis;\n",
    "# there is also sPENminer if we wanted to analyze a network evolving in real-time)\n",
    "method = oPENminer(stream,\n",
    "                   window_size=1,\n",
    "                   max_size=1,\n",
    "                   view='id',\n",
    "                   alpha=2.0,\n",
    "                   beta=0.5,\n",
    "                   gamma=3.0,\n",
    "                   save_output=True,\n",
    "                   save_occs=False)"
   ]
  },
  {
   "cell_type": "markdown",
   "metadata": {},
   "source": [
    "Now let's run PENminer to compute the frequency and persistence of each snippet."
   ]
  },
  {
   "cell_type": "code",
   "execution_count": null,
   "metadata": {},
   "outputs": [],
   "source": [
    "method.mine()"
   ]
  },
  {
   "cell_type": "markdown",
   "metadata": {},
   "source": [
    "The output goes to various files in `output/offline/id/`. If you wish, you can look there to see what exactly it outputs (see the last line of the output for the exact file prefix), but this is unecessary. We built a class that handles reading the output for easy analysis. \n",
    "\n",
    "Run the next cell to load the output you just generated."
   ]
  },
  {
   "cell_type": "code",
   "execution_count": null,
   "metadata": {},
   "outputs": [],
   "source": [
    "output_reader = OutputReader(stream_name, \n",
    "                             offline_online='offline', \n",
    "                             window_size=method.window_size, \n",
    "                             max_size=method.max_size, \n",
    "                             view=method.view,\n",
    "                             alpha=method.alpha,\n",
    "                             beta=method.beta, \n",
    "                             gamma=method.gamma)"
   ]
  },
  {
   "cell_type": "markdown",
   "metadata": {},
   "source": [
    "This cell picks out some snippets in various parts of the PvF plot so that you can see what\n",
    "sorts of timelines each region corresponds to."
   ]
  },
  {
   "cell_type": "code",
   "execution_count": null,
   "metadata": {},
   "outputs": [],
   "source": [
    "P_scores = list()\n",
    "F_scores = list()\n",
    "X = list()\n",
    "id_to_snippet = dict()\n",
    "colors = list()\n",
    "for i, pattern in enumerate(output_reader.patterns):\n",
    "    id_to_snippet[i] = pattern\n",
    "    P = output_reader.P(pattern)\n",
    "    F = output_reader.F(pattern)\n",
    "    P_scores.append(P)\n",
    "    F_scores.append(F)\n",
    "    X.append([P, output_reader.F(pattern, _log=True)])\n",
    "    if P > 10.5:\n",
    "        colors.append('black')\n",
    "    elif P < 1.0 and 500 < F:\n",
    "        colors.append('coral')\n",
    "    elif 7.8 < P < 8.1 and 210 < F < 300:\n",
    "        colors.append('#377eb8') # theme blue\n",
    "    else:\n",
    "        colors.append((0.5019607843137255, 0.5019607843137255, 0.5019607843137255, 0.2)) # 0.2 alpha gray\n",
    "X = np.asarray(X)"
   ]
  },
  {
   "cell_type": "code",
   "execution_count": null,
   "metadata": {},
   "outputs": [],
   "source": [
    "view = 'id'\n",
    "plotter.x_vs_y(x=P_scores, \n",
    "               y=F_scores,\n",
    "               title='Columbus Bike',\n",
    "               yscale='symlog',\n",
    "               xlabel='Persistence',\n",
    "               ylabel='Frequency',\n",
    "               dpi=250,\n",
    "               size=350,\n",
    "               colors=colors,\n",
    "               transparent=True)"
   ]
  },
  {
   "cell_type": "code",
   "execution_count": null,
   "metadata": {},
   "outputs": [],
   "source": [
    "kdtree = KDTree(X)\n",
    "D, _ = kdtree.query(X, k=10 + 1)\n",
    "snippet_to_anom_score = dict()\n",
    "for i, d in enumerate(D):\n",
    "    snippet_to_anom_score[id_to_snippet[i]] = np.mean(d[1:])\n",
    "top_k = set(it[0] for it in sorted(snippet_to_anom_score.items(), reverse=True, key=lambda it: it[-1])[:10])\n",
    "\n",
    "P_scores = list()\n",
    "F_scores = list()\n",
    "colors = list()\n",
    "for snippet, anom_score in snippet_to_anom_score.items():\n",
    "    P = output_reader.P(snippet)\n",
    "    F = output_reader.F(snippet)\n",
    "    P_scores.append(P)\n",
    "    F_scores.append(F)\n",
    "    if snippet in top_k:\n",
    "        colors.append('coral')\n",
    "    else:\n",
    "        colors.append((0.5019607843137255, 0.5019607843137255, 0.5019607843137255, 0.2)) # 0.2 alpha gray    "
   ]
  },
  {
   "cell_type": "code",
   "execution_count": null,
   "metadata": {},
   "outputs": [],
   "source": [
    "view = 'id'\n",
    "plotter.x_vs_y(x=P_scores, \n",
    "               y=F_scores,\n",
    "               title='Columbus Bike',\n",
    "               yscale='symlog',\n",
    "               xlabel='Persistence',\n",
    "               ylabel='Frequency',\n",
    "               dpi=250,\n",
    "               size=350,\n",
    "               colors=colors,\n",
    "               transparent=True)"
   ]
  },
  {
   "cell_type": "markdown",
   "metadata": {},
   "source": [
    "### Social Networks"
   ]
  },
  {
   "cell_type": "code",
   "execution_count": null,
   "metadata": {},
   "outputs": [],
   "source": [
    "stream_name = 'stackoverflow'\n",
    "stream = Stream(stream_name)\n",
    "method = oPENminer(stream,\n",
    "                   window_size=3600,\n",
    "                   max_size=3,\n",
    "                   view='id',\n",
    "                   alpha=1.0,\n",
    "                   beta=0.5,\n",
    "                   gamma=2.0,\n",
    "                   save_output=True,\n",
    "                   save_occs=True)"
   ]
  },
  {
   "cell_type": "code",
   "execution_count": null,
   "metadata": {},
   "outputs": [],
   "source": [
    "method.mine()"
   ]
  },
  {
   "cell_type": "code",
   "execution_count": null,
   "metadata": {},
   "outputs": [],
   "source": [
    "output_reader = OutputReader(stream_name, \n",
    "                             offline_online='offline', \n",
    "                             window_size=method.window_size, \n",
    "                             max_size=method.max_size, \n",
    "                             view=method.view,\n",
    "                             alpha=method.alpha,\n",
    "                             beta=method.beta, \n",
    "                             gamma=method.gamma)"
   ]
  },
  {
   "cell_type": "code",
   "execution_count": null,
   "metadata": {},
   "outputs": [],
   "source": [
    "P_scores = list()\n",
    "F_scores = list()\n",
    "colors = list()\n",
    "random.seed(0)\n",
    "for pattern in output_reader.patterns:\n",
    "    P = output_reader.P(pattern)\n",
    "    if P > 1.0 or (P > 0.1 and random.randint(0, 9) == 0) or random.randint(0, 99) == 0:\n",
    "        F = output_reader.F(pattern)\n",
    "        P_scores.append(P)\n",
    "        F_scores.append(F)\n",
    "        colors.append((0.5019607843137255, 0.5019607843137255, 0.5019607843137255, 0.1))"
   ]
  },
  {
   "cell_type": "code",
   "execution_count": null,
   "metadata": {},
   "outputs": [],
   "source": [
    "'''\n",
    "The three snippets hand-picked by visualy inspecting the PvF plot.\n",
    "'''\n",
    "output_reader.load_occs({'1_23354_23354_commented_on_a',\n",
    "                         '1_72603_82199_commented_on_a|1_72603_82199_commented_on_a|1_72603_82199_commented_on_a',\n",
    "                         '1_1950_55747_answered'})\n",
    "t = output_reader.te - output_reader.ts + 1\n",
    "random.seed(0)\n",
    "for pattern, occs in output_reader.pattern_to_occs.items():\n",
    "    P = output_reader.P(pattern)\n",
    "    F = output_reader.F(pattern)\n",
    "    if pattern == '1_23354_23354_commented_on_a':\n",
    "        color = 'black'\n",
    "        plotter.timeline(occs,\n",
    "                                ts=1,\n",
    "                                te=t,\n",
    "                                t=t,\n",
    "                                xlabel='',\n",
    "                                interval='M',\n",
    "                                alpha=0.5,\n",
    "                                timeticksize=1,\n",
    "                                color=color,\n",
    "                                marker='line')\n",
    "    elif pattern == '1_72603_82199_commented_on_a|1_72603_82199_commented_on_a|1_72603_82199_commented_on_a':\n",
    "        color = 'coral'\n",
    "        plotter.timeline(occs,\n",
    "                                ts=1 + (86400 * 9 + 50000), # zoom in\n",
    "                                te=t - (86400 * 95 + 10000), # zoom in\n",
    "                                t=t,\n",
    "                                xlabel='',\n",
    "                                interval='M',\n",
    "                                alpha=0.5,\n",
    "                                timeticksize=1,\n",
    "                                color=color,\n",
    "                                marker='line')\n",
    "    elif pattern == '1_1950_55747_answered':\n",
    "        color = '#377eb8'\n",
    "        plotter.timeline(occs,\n",
    "                                ts=1,\n",
    "                                te=t,\n",
    "                                t=t,\n",
    "                                xlabel='',\n",
    "                                interval='M',\n",
    "                                alpha=1.0,\n",
    "                                timeticksize=3,\n",
    "                                color=color,\n",
    "                                marker='line')"
   ]
  },
  {
   "cell_type": "code",
   "execution_count": null,
   "metadata": {},
   "outputs": [],
   "source": [
    "plotter.x_vs_y(x=P_scores, \n",
    "               y=F_scores,\n",
    "               title='',\n",
    "               yscale='symlog',\n",
    "               xlabel='Persistence',\n",
    "               ylabel='Frequency',\n",
    "               dpi=350,\n",
    "               size=350,\n",
    "               colors=colors)"
   ]
  },
  {
   "cell_type": "markdown",
   "metadata": {},
   "source": [
    "Let's try the automated anomaly detection again on this dataset. This time we'll demonstrate another simple approach to discovering anomalies."
   ]
  },
  {
   "cell_type": "code",
   "execution_count": null,
   "metadata": {},
   "outputs": [],
   "source": [
    "max_F = max(np.log10(np.asarray(list(output_reader.pattern_to_F.values())) + 1))\n",
    "max_P = max(output_reader.pattern_to_P.values())\n",
    "bins_P = np.arange(0, max_P + 1, 0.25)\n",
    "bins_F = np.arange(0, max_F + 1, 0.25)"
   ]
  },
  {
   "cell_type": "code",
   "execution_count": null,
   "metadata": {},
   "outputs": [],
   "source": [
    "random.seed(0)\n",
    "idx = 0\n",
    "covered_snippets = set()\n",
    "for pattern in output_reader.patterns:\n",
    "    P = output_reader.P(pattern)\n",
    "    if P > 1.0 or (P > 0.1 and random.randint(0, 9) == 0) or random.randint(0, 149) == 0:\n",
    "        F = output_reader.F(pattern)\n",
    "        covered_snippets.add(pattern)"
   ]
  },
  {
   "cell_type": "code",
   "execution_count": null,
   "metadata": {},
   "outputs": [],
   "source": [
    "bin_to_count = defaultdict(int)\n",
    "for snippet in covered_snippets:\n",
    "    P = output_reader.P(snippet)\n",
    "    F = output_reader.F(snippet, _log=True)\n",
    "    b1 = int(np.digitize(P, bins_P))\n",
    "    b2 = int(np.digitize(F, bins_F))\n",
    "    bin_to_count[(b1, b2)] += 1"
   ]
  },
  {
   "cell_type": "code",
   "execution_count": null,
   "metadata": {},
   "outputs": [],
   "source": [
    "P_scores = list()\n",
    "F_scores = list()\n",
    "colors = list()\n",
    "for snippet in covered_snippets:\n",
    "    P = output_reader.P(snippet)\n",
    "    F = output_reader.F(snippet, _log=True)\n",
    "    b1 = int(np.digitize(P, bins_P))\n",
    "    b2 = int(np.digitize(F, bins_F))\n",
    "    P_scores.append(P)\n",
    "    F_scores.append(F)\n",
    "    if bin_to_count[(b1, b2)] == 1:\n",
    "        colors.append('coral')\n",
    "    else:\n",
    "        colors.append((0.5019607843137255, 0.5019607843137255, 0.5019607843137255, 0.2)) # 0.2 alpha gray    "
   ]
  },
  {
   "cell_type": "code",
   "execution_count": null,
   "metadata": {},
   "outputs": [],
   "source": [
    "plotter.x_vs_y(x=P_scores, \n",
    "               y=F_scores,\n",
    "               title='',\n",
    "               yscale='symlog',\n",
    "               xlabel='Persistence',\n",
    "               ylabel='Frequency',\n",
    "               dpi=350,\n",
    "               size=350,\n",
    "               colors=colors)"
   ]
  },
  {
   "cell_type": "code",
   "execution_count": null,
   "metadata": {},
   "outputs": [],
   "source": []
  }
 ],
 "metadata": {
  "kernelspec": {
   "display_name": "Python 3",
   "language": "python",
   "name": "python3"
  },
  "language_info": {
   "codemirror_mode": {
    "name": "ipython",
    "version": 3
   },
   "file_extension": ".py",
   "mimetype": "text/x-python",
   "name": "python",
   "nbconvert_exporter": "python",
   "pygments_lexer": "ipython3",
   "version": "3.7.4"
  }
 },
 "nbformat": 4,
 "nbformat_minor": 2
}
